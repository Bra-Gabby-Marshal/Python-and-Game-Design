{
  "cells": [
    {
      "cell_type": "markdown",
      "metadata": {
        "id": "view-in-github",
        "colab_type": "text"
      },
      "source": [
        "<a href=\"https://colab.research.google.com/github/Bra-Gabby-Marshal/Python-and-Game-Design/blob/main/Python_%26_Game_Design_Lesson.ipynb\" target=\"_parent\"><img src=\"https://colab.research.google.com/assets/colab-badge.svg\" alt=\"Open In Colab\"/></a>"
      ]
    },
    {
      "cell_type": "markdown",
      "metadata": {
        "id": "JMNMONqN7ogC"
      },
      "source": [
        "\n",
        "\n",
        "# **To check if python is installed**"
      ]
    },
    {
      "cell_type": "code",
      "execution_count": null,
      "metadata": {
        "colab": {
          "base_uri": "https://localhost:8080/"
        },
        "id": "ILZHccIt7vk-",
        "outputId": "0c7ddbcf-641f-44cc-d326-7a77226727f0"
      },
      "outputs": [
        {
          "name": "stdout",
          "output_type": "stream",
          "text": [
            "Python version\n",
            "3.10.12 (main, Nov 20 2023, 15:14:05) [GCC 11.4.0]\n",
            "Version info.\n",
            "sys.version_info(major=3, minor=10, micro=12, releaselevel='final', serial=0)\n"
          ]
        }
      ],
      "source": [
        "import sys\n",
        "print(\"Python version\")\n",
        "print(sys.version)\n",
        "print(\"Version info.\")\n",
        "print(sys.version_info)"
      ]
    },
    {
      "cell_type": "code",
      "execution_count": null,
      "metadata": {
        "colab": {
          "base_uri": "https://localhost:8080/"
        },
        "id": "c590pYWuBgh5",
        "outputId": "89f8f4e7-02f6-47bc-90bd-89261efa950b"
      },
      "outputs": [
        {
          "name": "stdout",
          "output_type": "stream",
          "text": [
            "Hello, World!\n"
          ]
        }
      ],
      "source": [
        "print('Hello, World!')"
      ]
    },
    {
      "cell_type": "code",
      "execution_count": null,
      "metadata": {
        "colab": {
          "base_uri": "https://localhost:8080/"
        },
        "id": "_cYdMeW9CSvd",
        "outputId": "6c6bbe4e-9e22-412f-e310-a0c60daff2c8"
      },
      "outputs": [
        {
          "data": {
            "text/plain": [
              "10"
            ]
          },
          "execution_count": 3,
          "metadata": {},
          "output_type": "execute_result"
        }
      ],
      "source": [
        "8 + 2"
      ]
    },
    {
      "cell_type": "markdown",
      "metadata": {
        "id": "jE8dK8eOonQs"
      },
      "source": [
        "#**Python Variables and Strings 1**"
      ]
    },
    {
      "cell_type": "markdown",
      "metadata": {
        "id": "N3otQ60Opq8m"
      },
      "source": [
        "Variables are used to store and manipulate data\n",
        "\n",
        "e.g.\n",
        "**correct**\n",
        "my_var\n",
        "count\n",
        "lios\n",
        "\n",
        "**incorrect**\n",
        "2nd_variable\n",
        "my-var"
      ]
    },
    {
      "cell_type": "code",
      "execution_count": null,
      "metadata": {
        "colab": {
          "base_uri": "https://localhost:8080/"
        },
        "id": "QfH5mgiBor9P",
        "outputId": "a702d8a7-8195-44dd-9d0b-c176c6105885"
      },
      "outputs": [
        {
          "name": "stdout",
          "output_type": "stream",
          "text": [
            "[12, 13, 9, 9]\n"
          ]
        }
      ],
      "source": [
        "# how to collect sutudent ages together\n",
        "age = [12, 13, 9, 9]\n",
        "print(age)"
      ]
    },
    {
      "cell_type": "code",
      "execution_count": null,
      "metadata": {
        "colab": {
          "base_uri": "https://localhost:8080/"
        },
        "id": "ZExedSURsB0S",
        "outputId": "818c8902-8e5d-49e5-fc10-72ce48c1944b"
      },
      "outputs": [
        {
          "name": "stdout",
          "output_type": "stream",
          "text": [
            "5\n",
            "Lios\n"
          ]
        }
      ],
      "source": [
        "# A variable is created the moment you first assign a value to it\n",
        "\n",
        "x = 5\n",
        "y = \"Lios\"\n",
        "\n",
        "print(x)\n",
        "print(y)"
      ]
    },
    {
      "cell_type": "code",
      "execution_count": null,
      "metadata": {
        "colab": {
          "base_uri": "https://localhost:8080/"
        },
        "id": "7xggheR5xY61",
        "outputId": "3b5c34cf-4be6-4563-a234-e60746a2bbd6"
      },
      "outputs": [
        {
          "name": "stdout",
          "output_type": "stream",
          "text": [
            "Aarnick\n"
          ]
        }
      ],
      "source": [
        "#Variable names are case-sensitive\n",
        "\n",
        "a = \"Lilian\"\n",
        "A = \"Aarnick\"\n",
        "print(A)"
      ]
    },
    {
      "cell_type": "code",
      "execution_count": null,
      "metadata": {
        "colab": {
          "base_uri": "https://localhost:8080/"
        },
        "id": "2lh2YW0WygEo",
        "outputId": "b0a8fd76-d45d-4633-93ad-f64bcb6af0b3"
      },
      "outputs": [
        {
          "name": "stdout",
          "output_type": "stream",
          "text": [
            "15\n"
          ]
        }
      ],
      "source": [
        "# For numbers, the + character works as a mathematical operator:\n",
        "\n",
        "x = 5\n",
        "y = 10\n",
        "\n",
        "print(x + y)"
      ]
    },
    {
      "cell_type": "code",
      "execution_count": null,
      "metadata": {
        "colab": {
          "base_uri": "https://localhost:8080/"
        },
        "id": "gG_DD5BCy0b6",
        "outputId": "cac07d9f-eaee-433c-f092-bb1d0241266b"
      },
      "outputs": [
        {
          "name": "stdout",
          "output_type": "stream",
          "text": [
            "Python is awesome\n"
          ]
        }
      ],
      "source": [
        "# In the print() function, you output multiple variables,\n",
        "# separated by a comma:\n",
        "\n",
        "x = \"Python\"\n",
        "y = \"is\"\n",
        "z = \"awesome\"\n",
        "print(x, y, z)"
      ]
    },
    {
      "cell_type": "markdown",
      "metadata": {
        "id": "QgNkeyIV0xmc"
      },
      "source": [
        "**Exercise:**\n",
        "\n",
        "Create a variable named **carname** and assign the value **Volvo** to it."
      ]
    },
    {
      "cell_type": "code",
      "execution_count": null,
      "metadata": {
        "colab": {
          "base_uri": "https://localhost:8080/"
        },
        "id": "aRxgdpRn0qwr",
        "outputId": "06713daa-de99-425a-821e-236fe555f5a8"
      },
      "outputs": [
        {
          "name": "stdout",
          "output_type": "stream",
          "text": [
            "Volvo\n"
          ]
        }
      ],
      "source": [
        "carname = \"Volvo\"\n",
        "print(carname)"
      ]
    },
    {
      "cell_type": "markdown",
      "metadata": {
        "id": "CHAg5xoz3cZr"
      },
      "source": [
        "**Escape characters in text**\n",
        "\n",
        "Escape characters are used to include special character in strings"
      ]
    },
    {
      "cell_type": "code",
      "execution_count": null,
      "metadata": {
        "colab": {
          "base_uri": "https://localhost:8080/"
        },
        "id": "s0KW_FCd31eO",
        "outputId": "cf1e3492-97b1-40cc-fdd5-21a8b3aea9ff"
      },
      "outputs": [
        {
          "name": "stdout",
          "output_type": "stream",
          "text": [
            "Escape characters are used to a\n",
            " include special character in strings\n"
          ]
        }
      ],
      "source": [
        "print(\"Escape characters are used to a\\n include special character in strings\")"
      ]
    },
    {
      "cell_type": "code",
      "execution_count": null,
      "metadata": {
        "colab": {
          "base_uri": "https://localhost:8080/"
        },
        "id": "dCLuYT9X4LCu",
        "outputId": "9d21bfc3-53fb-4173-d8f9-81e962e2d5d5"
      },
      "outputs": [
        {
          "name": "stdout",
          "output_type": "stream",
          "text": [
            "This is a line with a\n",
            "new line.\n"
          ]
        }
      ],
      "source": [
        "print(\"This is a line with a\\nnew line.\")\n"
      ]
    },
    {
      "cell_type": "code",
      "execution_count": null,
      "metadata": {
        "colab": {
          "base_uri": "https://localhost:8080/"
        },
        "id": "SH8JiPWr4Pgu",
        "outputId": "208658b5-fca7-439f-8eab-e4cba20a1079"
      },
      "outputs": [
        {
          "name": "stdout",
          "output_type": "stream",
          "text": [
            "This is a text with a\ttab.\n"
          ]
        }
      ],
      "source": [
        "print(\"This is a text with a\\ttab.\")"
      ]
    },
    {
      "cell_type": "code",
      "execution_count": null,
      "metadata": {
        "colab": {
          "base_uri": "https://localhost:8080/"
        },
        "id": "cW9IKP8S4Qs3",
        "outputId": "a6c51d98-fc4b-4ef0-8c84-04058ef20922"
      },
      "outputs": [
        {
          "name": "stdout",
          "output_type": "stream",
          "text": [
            "We are the so-called \"Vikings\" from the north.\n"
          ]
        }
      ],
      "source": [
        "# The escape character allows you to use double quotes\n",
        "# when you normally would not be allowed:\n",
        "txt = \"We are the so-called \\\"Vikings\\\" from the north.\"\n",
        "print(txt)"
      ]
    },
    {
      "cell_type": "markdown",
      "metadata": {
        "id": "ssJPg1TS6UvZ"
      },
      "source": [
        "**Input Function**\n",
        "\n",
        "The input() function is used to take user input. It returns the user's input as a string"
      ]
    },
    {
      "cell_type": "code",
      "execution_count": null,
      "metadata": {
        "colab": {
          "base_uri": "https://localhost:8080/"
        },
        "id": "UIZBmi4a6zM5",
        "outputId": "d3c7e476-e340-4674-8ee9-f46bd848ef98"
      },
      "outputs": [
        {
          "name": "stdout",
          "output_type": "stream",
          "text": [
            "Enter your name: Gabby\n",
            "Hello, Gabby!\n"
          ]
        }
      ],
      "source": [
        "user_input = input(\"Enter your name: \")\n",
        "print(\"Hello, \" + user_input + \"!\")"
      ]
    },
    {
      "cell_type": "markdown",
      "metadata": {
        "id": "s81qwAsu99L_"
      },
      "source": [
        "**Assignment**\n",
        "\n",
        "1. Create a program that asks for your favorite color using the input function!\n",
        "2. Create a program that asks for your favorite hobby using the input function!"
      ]
    },
    {
      "cell_type": "code",
      "execution_count": null,
      "metadata": {
        "colab": {
          "base_uri": "https://localhost:8080/"
        },
        "id": "pL5OSCkP-J3d",
        "outputId": "7f4c0aed-0ee2-45b0-fb9f-60fc5914d95c"
      },
      "outputs": [
        {
          "name": "stdout",
          "output_type": "stream",
          "text": [
            "What is your favorite color?Yellow\n",
            "What is your favorite hobby? Football game\n",
            "Your favorite color is : Yellow It's great to know that your favorite hobby is: Football game Keep enjoying it!\n"
          ]
        }
      ],
      "source": [
        "# Ask for favorite color\n",
        "color = input(\"What is your favorite color?\")\n",
        "\n",
        "# Ask for favorite hobby\n",
        "hobby = input(\"What is your favorite hobby? \")\n",
        "\n",
        "print(\"Your favorite color is : \" + color + \" It's great to know that your favorite hobby is: \" + hobby + \" Keep enjoying it!\")"
      ]
    },
    {
      "cell_type": "markdown",
      "metadata": {
        "id": "db0jcIqQ0jzv"
      },
      "source": [
        "#**Python Variables and Strings 2**"
      ]
    },
    {
      "cell_type": "markdown",
      "metadata": {
        "id": "HlBLKnPb1WEG"
      },
      "source": [
        "**Indexing and Slicing with Strings**"
      ]
    },
    {
      "cell_type": "code",
      "execution_count": null,
      "metadata": {
        "id": "2dscUrdS0lrs"
      },
      "outputs": [],
      "source": [
        "# Indexing\n",
        "my_string = \"Hello, World!\"\n",
        "print(my_string[0]) # Output : H\n",
        "print(my_string[7]) # Output : w\n",
        "print(my_string[8]) # output : o"
      ]
    },
    {
      "cell_type": "markdown",
      "metadata": {
        "id": "Yw4xlInW8sNg"
      },
      "source": [
        "**Slicing**"
      ]
    },
    {
      "cell_type": "code",
      "execution_count": null,
      "metadata": {
        "id": "v3WGgVCc8vWd"
      },
      "outputs": [],
      "source": [
        "my_string = \"Hello, World!\"\n",
        "print(my_string[0:4]) # Output : Hello\n",
        "print(my_string[1:5])"
      ]
    },
    {
      "cell_type": "code",
      "execution_count": null,
      "metadata": {
        "id": "F11DrYdiAFo0"
      },
      "outputs": [],
      "source": [
        "# Example\n",
        "# Get the characters from the start to position 5\n",
        "my_string = \"Hello, World!\"\n",
        "print(my_string[:5])\n",
        "print(my_string[:4]) # Output : Hell\n",
        "\n",
        "# Print from Start to 7 index\n",
        "print(my_string[2:])"
      ]
    },
    {
      "cell_type": "markdown",
      "metadata": {
        "id": "652a4Y6FFWe3"
      },
      "source": [
        "**Use Built-in String Function**"
      ]
    },
    {
      "cell_type": "code",
      "execution_count": null,
      "metadata": {
        "colab": {
          "base_uri": "https://localhost:8080/"
        },
        "id": "K-iULZUtFbNl",
        "outputId": "b24d24d3-94f5-4cd4-cf1a-acd8e469d8cc"
      },
      "outputs": [
        {
          "name": "stdout",
          "output_type": "stream",
          "text": [
            "12\n",
            "20\n"
          ]
        }
      ],
      "source": [
        "# e.g\n",
        "# Using len()\n",
        "my_string = \"Hello, World\"\n",
        "length = len(my_string)\n",
        "print(length)\n",
        "\n",
        "# Ex\n",
        "# Declare a variable and assign a value of your name to it and print out the length of your name\n",
        "myName = \"Sodey Haidor Gabriel\"\n",
        "length = len(myName)\n",
        "print(length)"
      ]
    },
    {
      "cell_type": "code",
      "execution_count": null,
      "metadata": {
        "colab": {
          "base_uri": "https://localhost:8080/"
        },
        "id": "2M0iQEw6p4nM",
        "outputId": "dc0cf928-d85e-400b-f3f7-0e0a352516b1"
      },
      "outputs": [
        {
          "name": "stdout",
          "output_type": "stream",
          "text": [
            "['Daniel', 'Lilian']\n"
          ]
        }
      ],
      "source": [
        "# Using Split()\n",
        "my_split = \"Daniel, Lilian\"\n",
        "words = my_split.split(', ')\n",
        "print(words)\n",
        "\n",
        "# Ex\n",
        "# Declare a variable and assign two words to it and split the output\n"
      ]
    },
    {
      "cell_type": "code",
      "execution_count": null,
      "metadata": {
        "colab": {
          "base_uri": "https://localhost:8080/"
        },
        "id": "sTw-vlf8saVm",
        "outputId": "9e31fd4b-a72f-4284-80ca-a9c9abebe32f"
      },
      "outputs": [
        {
          "name": "stdout",
          "output_type": "stream",
          "text": [
            "Daniel_Lilian\n"
          ]
        }
      ],
      "source": [
        "# Using join\n",
        "joined_string = '_'.join(words)\n",
        "print(joined_string)\n",
        "\n",
        "# Ex\n",
        "# Using the above exercise join your words together\n"
      ]
    },
    {
      "cell_type": "code",
      "execution_count": null,
      "metadata": {
        "colab": {
          "base_uri": "https://localhost:8080/"
        },
        "id": "Qlaz6Ordwl3F",
        "outputId": "7f8399e2-968b-4525-bb03-6ab2cb241530"
      },
      "outputs": [
        {
          "name": "stdout",
          "output_type": "stream",
          "text": [
            "7\n"
          ]
        }
      ],
      "source": [
        "# Using find()\n",
        "myString = \"Hello, World!\"\n",
        "position = myString.find('World!')\n",
        "print(position)"
      ]
    },
    {
      "cell_type": "code",
      "execution_count": null,
      "metadata": {
        "colab": {
          "base_uri": "https://localhost:8080/"
        },
        "id": "ZHQpv9fX1Jwz",
        "outputId": "fd75f553-3754-4459-dce3-18e8bdc9fcd7"
      },
      "outputs": [
        {
          "name": "stdout",
          "output_type": "stream",
          "text": [
            "3\n"
          ]
        }
      ],
      "source": [
        "# Using count\n",
        "myString = \"Hello, World!\"\n",
        "count = myString.count('l')\n",
        "print(count)"
      ]
    },
    {
      "cell_type": "code",
      "execution_count": null,
      "metadata": {
        "colab": {
          "base_uri": "https://localhost:8080/"
        },
        "id": "alsnFrvc1oRC",
        "outputId": "8253e59b-d949-4b2a-f7a4-b2525ce20e60"
      },
      "outputs": [
        {
          "name": "stdout",
          "output_type": "stream",
          "text": [
            "HELLO, WORLD!\n",
            "hello, world!\n",
            "hELLO, wORLD!\n"
          ]
        }
      ],
      "source": [
        "# Using lower() and swapcase()\n",
        "a = \"Hello, World!\"\n",
        "print(a.upper())\n",
        "print(a.lower())\n",
        "print(a.swapcase())"
      ]
    },
    {
      "cell_type": "code",
      "execution_count": null,
      "metadata": {
        "colab": {
          "base_uri": "https://localhost:8080/"
        },
        "id": "4A_LeODp20YV",
        "outputId": "292742b9-b3ab-490e-ade8-a9082f18af0b"
      },
      "outputs": [
        {
          "name": "stdout",
          "output_type": "stream",
          "text": [
            "...Hello, World!....\n",
            "Hello, World!%%%%%%%\n",
            "*******Hello, World!\n"
          ]
        }
      ],
      "source": [
        "# Usiing center(), ljust(), and rjust()\n",
        "a = \"Hello, World!\"\n",
        "\n",
        "# center allignment\n",
        "center_allignment = a.center(20, '*')\n",
        "# print(center_allignment)\n",
        "print(a.center(20, '.'))\n",
        "\n",
        "# left allignment\n",
        "print(a.ljust(20, '%'))\n",
        "\n",
        "# right allignment\n",
        "print(a.rjust(20, '*'))"
      ]
    },
    {
      "cell_type": "code",
      "execution_count": null,
      "metadata": {
        "colab": {
          "base_uri": "https://localhost:8080/"
        },
        "id": "ekpWpEGB8B9d",
        "outputId": "7e3cad99-cb53-4381-e62f-ce770d98bb33"
      },
      "outputs": [
        {
          "name": "stdout",
          "output_type": "stream",
          "text": [
            "Hello, Lilian!\n"
          ]
        }
      ],
      "source": [
        "# Using replace()\n",
        "a = \"Hello, World!\"\n",
        "my_replace = a.replace('World','Lilian')\n",
        "print(my_replace)\n",
        "# print(a.replace('World', 'Lilian'))"
      ]
    },
    {
      "cell_type": "markdown",
      "metadata": {
        "id": "v4Qlub1U9Jy_"
      },
      "source": [
        "**Print Formatting with Strings**\n",
        "\n",
        "Print formatting with strings refers to the process of combining variables, expressions, or values with a string to create a formatted output. In Python, there are several ways to format strings, and one of the common approaches is using placeholders or string formatting methods."
      ]
    },
    {
      "cell_type": "code",
      "execution_count": null,
      "metadata": {
        "colab": {
          "base_uri": "https://localhost:8080/"
        },
        "id": "gAD7xEpf9o1e",
        "outputId": "fe624da8-e799-49d5-f705-26c38f1a5168"
      },
      "outputs": [
        {
          "name": "stdout",
          "output_type": "stream",
          "text": [
            "My name is Seyram Damien and I am 10 years old.\n"
          ]
        }
      ],
      "source": [
        "name = 'Seyram Damien'\n",
        "age = 10\n",
        "\n",
        "# Using f-strings (formatted string literals)\n",
        "# readable way to embed expressions inside string literals.\n",
        "print(f\"My name is {name} and I am {age} years old.\")"
      ]
    },
    {
      "cell_type": "code",
      "execution_count": null,
      "metadata": {
        "colab": {
          "base_uri": "https://localhost:8080/"
        },
        "id": "5-J4WIKf-oJH",
        "outputId": "df9d2590-7b81-4e6c-dde2-c5a900e793c8"
      },
      "outputs": [
        {
          "name": "stdout",
          "output_type": "stream",
          "text": [
            "My name is Seyram Damien and I am 10 years old.\n"
          ]
        }
      ],
      "source": [
        "# # Using format()\n",
        "#  method allows you to insert values into a string using placeholders.\n",
        "print(\"My name is {} and I am {} years old.\".format(name, age))"
      ]
    },
    {
      "cell_type": "code",
      "execution_count": null,
      "metadata": {
        "colab": {
          "base_uri": "https://localhost:8080/"
        },
        "id": "Pw6PLLqF-8Lo",
        "outputId": "677dab94-27e7-411b-85b9-bbf91351761d"
      },
      "outputs": [
        {
          "name": "stdout",
          "output_type": "stream",
          "text": [
            "My name is Seyram Damien and I am 10 years old.\n"
          ]
        }
      ],
      "source": [
        "# Concatenation\n",
        "print(\"My name is \" + name + \" and I am \" + str(age) + \" years old.\")"
      ]
    },
    {
      "cell_type": "markdown",
      "metadata": {
        "id": "E14-Wr1OB6oN"
      },
      "source": [
        "**Assignment**  \n",
        "\n",
        "  **20/01/2024**"
      ]
    },
    {
      "cell_type": "code",
      "execution_count": null,
      "metadata": {
        "colab": {
          "base_uri": "https://localhost:8080/"
        },
        "id": "HiCBZWaDCJgp",
        "outputId": "cd8fb330-3d3e-4fe2-cdd5-ed5028cdc5d5"
      },
      "outputs": [
        {
          "name": "stdout",
          "output_type": "stream",
          "text": [
            "['Me', 'and', 'You']\n"
          ]
        }
      ],
      "source": [
        "# Use the split function to split the below\n",
        "\n",
        "sentence = 'Me and You'\n",
        "words = sentence.split()\n",
        "print(words)"
      ]
    },
    {
      "cell_type": "code",
      "execution_count": null,
      "metadata": {
        "colab": {
          "base_uri": "https://localhost:8080/"
        },
        "id": "d22QTId2Cdr3",
        "outputId": "92c376bb-c05c-4d63-a048-54208035b335"
      },
      "outputs": [
        {
          "name": "stdout",
          "output_type": "stream",
          "text": [
            "Java\n"
          ]
        }
      ],
      "source": [
        "# Use the replace funtion to  replace Python to Java in the below\n",
        "\n",
        "programmin_language = 'Python'\n",
        "print(programmin_language.replace('Python', 'Java'))\n"
      ]
    },
    {
      "cell_type": "code",
      "execution_count": null,
      "metadata": {
        "colab": {
          "base_uri": "https://localhost:8080/"
        },
        "id": "0Xu_Iug1C9PO",
        "outputId": "5b2aa317-9dd7-4abd-dde3-a04bc5448d2c"
      },
      "outputs": [
        {
          "name": "stdout",
          "output_type": "stream",
          "text": [
            "2\n"
          ]
        }
      ],
      "source": [
        "# Use the count function to count b in the below\n",
        "my_name = \"Gabby\"\n",
        "print(my_name.count('b'))"
      ]
    },
    {
      "cell_type": "code",
      "execution_count": null,
      "metadata": {
        "colab": {
          "base_uri": "https://localhost:8080/"
        },
        "id": "ggHvUA5MDL1B",
        "outputId": "39f90011-7b0c-49b8-9705-a31259869f45"
      },
      "outputs": [
        {
          "name": "stdout",
          "output_type": "stream",
          "text": [
            "My name is Bra Gabby Marshal and I am 100 years old.\n",
            "My nmae is Bra Gabby Marshal and I am 100 years old.\n",
            "My name is Bra Gabby Marshal and I am 100 years old.\n"
          ]
        }
      ],
      "source": [
        "# Use the f-strings, format() and concatenation to fornat your name and age\n",
        "\n",
        "# Example\n",
        "name = \"Bra Gabby Marshal\"\n",
        "age = 100\n",
        "\n",
        "print(f\"My name is {name} and I am {age} years old.\")\n",
        "\n",
        "print(\"My nmae is {} and I am {} years old.\".format(name, age))\n",
        "\n",
        "print(\"My name is \" + name + \" and I am \" + str(age) + \" years old.\")"
      ]
    },
    {
      "cell_type": "markdown",
      "metadata": {
        "id": "iI2Ctj3c6vm9"
      },
      "source": [
        "\n",
        "# **Working with numbers**"
      ]
    },
    {
      "cell_type": "markdown",
      "metadata": {
        "id": "w_HlJhjg7Hq2"
      },
      "source": [
        "In Python there are three(3) numeric types\n",
        "\n",
        "\n",
        "*   integer(int)\n",
        "*   float\n",
        "*   complex\n",
        "\n",
        "\n",
        "\n"
      ]
    },
    {
      "cell_type": "markdown",
      "metadata": {
        "id": "hqTsN-Ch702o"
      },
      "source": [
        "**Converting Strings into Integers and Floating-Point Values**\n",
        "\n",
        "In Python, you can convert a string to an integer using the **int()** function and to a floating-point number using the **float()** function."
      ]
    },
    {
      "cell_type": "code",
      "execution_count": null,
      "metadata": {
        "colab": {
          "base_uri": "https://localhost:8080/"
        },
        "id": "VndEnsEa6zrH",
        "outputId": "43067177-2700-433a-ddc0-63e9902aeb11"
      },
      "outputs": [
        {
          "name": "stdout",
          "output_type": "stream",
          "text": [
            "string: 123, Integer: 123\n"
          ]
        }
      ],
      "source": [
        "# Converting string to integer\n",
        "string_num = \"123\"\n",
        "integer_num = int(string_num)\n",
        "print(f\"string: {string_num}, Integer: {integer_num}\")"
      ]
    },
    {
      "cell_type": "code",
      "execution_count": null,
      "metadata": {
        "colab": {
          "base_uri": "https://localhost:8080/"
        },
        "id": "hSQcWoZs7vhB",
        "outputId": "52d8b92f-a61e-4b11-d896-a80ada18281c"
      },
      "outputs": [
        {
          "name": "stdout",
          "output_type": "stream",
          "text": [
            "string: 123.45, Float: 123.45\n"
          ]
        }
      ],
      "source": [
        "# Converting string to float\n",
        "string_float = \"123.45\"\n",
        "float_num = float(string_float)\n",
        "print(f\"string: {string_float}, Float: {float_num}\")"
      ]
    },
    {
      "cell_type": "code",
      "execution_count": null,
      "metadata": {
        "colab": {
          "base_uri": "https://localhost:8080/"
        },
        "id": "j9IrGnPB-_k3",
        "outputId": "23fe0a1b-86c8-4b93-9783-cea7681ac523"
      },
      "outputs": [
        {
          "name": "stdout",
          "output_type": "stream",
          "text": [
            "String: 134, Integer: 134\n"
          ]
        }
      ],
      "source": [
        "# Converting string to integer\n",
        "stringNumber = \"134\"\n",
        "integerNumber = int(stringNumber)\n",
        "print(f\"String: {stringNumber}, Integer: {integerNumber}\")"
      ]
    },
    {
      "cell_type": "code",
      "execution_count": null,
      "metadata": {
        "colab": {
          "base_uri": "https://localhost:8080/"
        },
        "id": "cxP-dsvLBkFG",
        "outputId": "ae8aa56b-363d-4a22-9ea0-005e7e5d48d0"
      },
      "outputs": [
        {
          "name": "stdout",
          "output_type": "stream",
          "text": [
            "string: 345678.9087, Float: 345678.9087\n"
          ]
        }
      ],
      "source": [
        "# Converting string to float\n",
        "stringFloat = \"345678.9087\"\n",
        "floatNumber = float(stringFloat)\n",
        "print(f\"string: {stringFloat}, Float: {floatNumber}\")"
      ]
    },
    {
      "cell_type": "markdown",
      "metadata": {
        "id": "c99gf2ELCi2R"
      },
      "source": [
        "**Operators**\n",
        "\n",
        "Python supports various operators for performing operations on numbers. Here are some common ones:"
      ]
    },
    {
      "cell_type": "code",
      "execution_count": null,
      "metadata": {
        "colab": {
          "base_uri": "https://localhost:8080/"
        },
        "id": "JZLA2jf4CmyK",
        "outputId": "481ef687-6e77-4d44-dc5f-2bd7f4eb47e2"
      },
      "outputs": [
        {
          "name": "stdout",
          "output_type": "stream",
          "text": [
            "15\n",
            "5\n",
            "50\n",
            "2.0\n",
            "0\n",
            "100000\n",
            "True\n",
            "True\n",
            "True\n",
            "False\n"
          ]
        }
      ],
      "source": [
        "a = 10\n",
        "b = 5\n",
        "\n",
        "# Arithmetic operators\n",
        "addition = a + b\n",
        "print(addition)\n",
        "\n",
        "subtraction = a - b\n",
        "print(subtraction)\n",
        "\n",
        "multiplication = a * b\n",
        "print(multiplication)\n",
        "\n",
        "division = a / b\n",
        "print(division)\n",
        "\n",
        "remainder = a % b\n",
        "print(remainder)\n",
        "\n",
        "power = a ** b\n",
        "print(power)\n",
        "\n",
        "# Comparison Operators\n",
        "c = 10\n",
        "d = 10\n",
        "equal = (c == d)\n",
        "print(equal)\n",
        "\n",
        "not_equal = (a != b)\n",
        "print(not_equal)\n",
        "\n",
        "greater_than = (a > b)\n",
        "print(greater_than)\n",
        "\n",
        "less_than = (a < b)\n",
        "print(less_than)"
      ]
    },
    {
      "cell_type": "markdown",
      "metadata": {
        "id": "QwLwpBdwI6TV"
      },
      "source": [
        "**Type Conversion**\n",
        "\n",
        "You can explicitly convert between different types in Python using functions like int(), float(), str(), etc."
      ]
    },
    {
      "cell_type": "code",
      "execution_count": null,
      "metadata": {
        "colab": {
          "base_uri": "https://localhost:8080/"
        },
        "id": "SFPNEWlTEfcl",
        "outputId": "3de07867-a641-4668-8065-cd6a87c739f4"
      },
      "outputs": [
        {
          "name": "stdout",
          "output_type": "stream",
          "text": [
            "4\n",
            "4.0\n"
          ]
        }
      ],
      "source": [
        "num = 4\n",
        "num_str = str(num)\n",
        "\n",
        "num_float = float(num)\n",
        "print(num_str)\n",
        "print(num_float)"
      ]
    },
    {
      "cell_type": "markdown",
      "metadata": {
        "id": "hjbNGFovKIxJ"
      },
      "source": [
        "**Performing Calculations**\n",
        "\n",
        "Now, let's combine these concepts to perform calculations:*italicized text*"
      ]
    },
    {
      "cell_type": "code",
      "execution_count": null,
      "metadata": {
        "colab": {
          "base_uri": "https://localhost:8080/"
        },
        "id": "PxeKdOfpKWS8",
        "outputId": "37b8a4eb-d003-4c23-cee1-5698ba940233"
      },
      "outputs": [
        {
          "name": "stdout",
          "output_type": "stream",
          "text": [
            "Enter the first number: 4455\n",
            "Enter the second number: 6465757\n",
            "6470212.0\n",
            "-6461302.0\n",
            "28804947435.0\n",
            "0.0006890144495068404\n"
          ]
        }
      ],
      "source": [
        "# Input values as strings\n",
        "input_num1 = input(\"Enter the first number: \")\n",
        "input_num2 = input(\"Enter the second number: \")\n",
        "\n",
        "# Convert strings to numbers\n",
        "num1 = float(input_num1)\n",
        "num2 = float(input_num2)\n",
        "\n",
        "# Perform calculations\n",
        "add_input = (num1 + num2)\n",
        "\n",
        "print(add_input)\n",
        "\n",
        "# difference (-)\n",
        "difference_input = (num1 - num2)\n",
        "print(difference_input)\n",
        "\n",
        "# product(*)\n",
        "product_input = (num1 * num2)\n",
        "print(product_input)\n",
        "\n",
        "# quotient(/)\n",
        "quotient_input = (num1 / num2)\n",
        "print(quotient_input)"
      ]
    },
    {
      "cell_type": "markdown",
      "metadata": {
        "id": "TjA4vQzlxpa9"
      },
      "source": [
        "**Project** 27th January, 2024\n",
        "\n",
        "Think of numbers as ingredients for a recipe. We can mix them, change them, and use them in calculations, just like in a cooking recipe. Let's convert your age from a word to a number and do some math!\n",
        "\n",
        "Assume your age as a word is \"twenty-five\". We'll convert this word to a number and perform some calculations:\n"
      ]
    },
    {
      "cell_type": "code",
      "execution_count": null,
      "metadata": {
        "colab": {
          "base_uri": "https://localhost:8080/"
        },
        "id": "DM2qvEH3xwtX",
        "outputId": "bbefa2ea-dab8-4d1a-b37e-ead3f815a676"
      },
      "outputs": [
        {
          "name": "stdout",
          "output_type": "stream",
          "text": [
            "Your age as a number: 25\n",
            "Double your are: 50\n",
            "Half your age: 12.5\n"
          ]
        }
      ],
      "source": [
        "#  Convert age from word to number\n",
        "age_word = \"twenty-five\"\n",
        "age_number = None\n",
        "\n",
        "# Conversion logic (a simple mapping)\n",
        "word_to_number_mapping = {\n",
        "    'zero ' : 0, 'one':1, 'two':2, 'three':3, 'four':4, 'five': 5, 'six':6, 'seven':7,\n",
        "    'eight':8, 'nine':9, 'ten':10, 'eleven':11, 'twelve':12, 'thirteen': 13, 'fourteen': 14,\n",
        "    'fifteen': 15, 'sixteen': 16, 'seventeen': 17, 'eighteen': 18, 'nineteen': 19,\n",
        "    'twenty': 20, 'thirty': 30, 'forty': 40, 'fifty': 50\n",
        "}\n",
        "#  Split the age word into parts\n",
        "parts = age_word.split('-')\n",
        "\n",
        "# Convert each part to a number and sum them up\n",
        "age_number = sum(word_to_number_mapping[part] for part in parts)\n",
        "\n",
        "# Perform some calculations\n",
        "double_age = age_number * 2\n",
        "plus_age = age_number + 2\n",
        "half_age = age_number / 2\n",
        "\n",
        "# Display the results\n",
        "print(f\"Your age as a number: {age_number}\")\n",
        "print(f\"Double your are: {double_age}\")\n",
        "print(f\"Half your age: {half_age}\")\n"
      ]
    },
    {
      "cell_type": "markdown",
      "metadata": {
        "id": "JTTUgwv45MZH"
      },
      "source": [
        "# **Python Data Types**"
      ]
    },
    {
      "cell_type": "markdown",
      "metadata": {
        "id": "S8f-KDcTE64v"
      },
      "source": [
        "a description of a set of values and a set of allowed operations on values\n",
        "\n",
        " **Examples**\n",
        "\n",
        "\n",
        "*   int\n",
        "*   bool\n",
        "*   float\n",
        "*   str\n",
        "*   double\n",
        "*   range\n",
        "*   dict\n",
        "*   complex\n",
        "*   set\n",
        "*   bytes etc\n",
        "*   List\n"
      ]
    },
    {
      "cell_type": "markdown",
      "metadata": {
        "id": "rrCb9Dcb8S4y"
      },
      "source": [
        "**List in Python**\n",
        "\n",
        "They are used to store multiple items in a single variable"
      ]
    },
    {
      "cell_type": "code",
      "execution_count": null,
      "metadata": {
        "colab": {
          "base_uri": "https://localhost:8080/"
        },
        "id": "E43blcT-5TvE",
        "outputId": "1db0a06c-ccb2-49e5-e219-50ba83505e55"
      },
      "outputs": [
        {
          "name": "stdout",
          "output_type": "stream",
          "text": [
            "['Daniel', 'Aarnick', 'Damien', 'Lilian', 'Lois']\n",
            "['tomato', 'Carrot', 'Onion']\n"
          ]
        }
      ],
      "source": [
        "# Example of list\n",
        "name = ['Daniel', \"Aarnick\", \"Damien\", \"Lilian\", \"Lois\"]\n",
        "vegetables = [\"tomato\",\"Carrot\", \"Onion\"]\n",
        "print(name)\n",
        "print(vegetables)"
      ]
    },
    {
      "cell_type": "code",
      "execution_count": null,
      "metadata": {
        "colab": {
          "base_uri": "https://localhost:8080/"
        },
        "id": "fJJv6cu_80_t",
        "outputId": "a4449114-75ea-4800-cf59-d71f02c3f59d"
      },
      "outputs": [
        {
          "name": "stdout",
          "output_type": "stream",
          "text": [
            "['Daniel', 'Aarnick', 'Damien', 'Lilian', 'Lois', 'tomato', 'Daniel', 'Aarnick', 'Damien', 'Lilian', 'Lois', 'Carrot', 'Onion']\n"
          ]
        },
        {
          "data": {
            "text/plain": [
              "list"
            ]
          },
          "execution_count": 12,
          "metadata": {},
          "output_type": "execute_result"
        }
      ],
      "source": [
        "# A list is a collection which is ordered and changeable.\n",
        "# List allows duplicate members.\n",
        "\n",
        "thislist = ['Daniel', \"Aarnick\", \"Damien\", \"Lilian\", \"Lois\",\"tomato\",'Daniel', \"Aarnick\", \"Damien\", \"Lilian\", \"Lois\",\"Carrot\", \"Onion\"]\n",
        "print(thislist)\n"
      ]
    },
    {
      "cell_type": "code",
      "execution_count": null,
      "metadata": {
        "colab": {
          "base_uri": "https://localhost:8080/"
        },
        "id": "7hkG7Y0K98bX",
        "outputId": "50ac49ef-996e-4e21-c1b9-cb6f6391a087"
      },
      "outputs": [
        {
          "data": {
            "text/plain": [
              "list"
            ]
          },
          "execution_count": 14,
          "metadata": {},
          "output_type": "execute_result"
        }
      ],
      "source": [
        "# Obtain the datatype\n",
        "type(name)"
      ]
    },
    {
      "cell_type": "code",
      "execution_count": null,
      "metadata": {
        "colab": {
          "base_uri": "https://localhost:8080/"
        },
        "id": "YcFOsjtA-jua",
        "outputId": "232db4e3-5d43-4315-c515-a94a2b20c5b6"
      },
      "outputs": [
        {
          "name": "stdout",
          "output_type": "stream",
          "text": [
            "['Daniel', 34]\n"
          ]
        }
      ],
      "source": [
        "# list with mixed datatypes (for example you can have strings and integers in one list)\n",
        "my_list = [\"Daniel\", 34]\n",
        "print(my_list)"
      ]
    },
    {
      "cell_type": "code",
      "execution_count": null,
      "metadata": {
        "colab": {
          "base_uri": "https://localhost:8080/"
        },
        "id": "WSAZtVkM-05a",
        "outputId": "1d56e69d-611c-4cc3-966a-78cfba8b1f8c"
      },
      "outputs": [
        {
          "data": {
            "text/plain": [
              "list"
            ]
          },
          "execution_count": 16,
          "metadata": {},
          "output_type": "execute_result"
        }
      ],
      "source": [
        "# Obtain the datatype\n",
        "type(my_list)"
      ]
    },
    {
      "cell_type": "code",
      "execution_count": null,
      "metadata": {
        "colab": {
          "base_uri": "https://localhost:8080/"
        },
        "id": "cVyUDfiW_HpT",
        "outputId": "bc0568e7-032a-4bf0-82be-1c866d71ff8c"
      },
      "outputs": [
        {
          "name": "stdout",
          "output_type": "stream",
          "text": [
            "['NAME', [3, 5, 8]]\n"
          ]
        }
      ],
      "source": [
        "# You can have a list inside another list (nested list)\n",
        "my_list1 = [\"NAME\",[3,5,8]]\n",
        "print(my_list1)"
      ]
    },
    {
      "cell_type": "code",
      "execution_count": null,
      "metadata": {
        "colab": {
          "base_uri": "https://localhost:8080/"
        },
        "id": "Ax7KXF7M_huR",
        "outputId": "c74ee5f8-c407-4ecb-d157-238a3f3a5bac"
      },
      "outputs": [
        {
          "name": "stdout",
          "output_type": "stream",
          "text": [
            "Daniel\n"
          ]
        }
      ],
      "source": [
        "# Access specific elements in the list with Indexing\n",
        "# Note  that the first element  in the list has an index of 0\n",
        "my_list = [67,\"Daniel\", 34]\n",
        "print(my_list[1])"
      ]
    },
    {
      "cell_type": "code",
      "execution_count": null,
      "metadata": {
        "colab": {
          "base_uri": "https://localhost:8080/"
        },
        "id": "VqrKuPa8BHn7",
        "outputId": "e97a0129-2ad4-4c7a-c432-748b1b4e6fbd"
      },
      "outputs": [
        {
          "name": "stdout",
          "output_type": "stream",
          "text": [
            "[3, 5, 8]\n"
          ]
        }
      ],
      "source": [
        "# Indexing for nested list\n",
        "my_list1 = [\"NAME\",[3,5,8]]\n",
        "print(my_list1[1])"
      ]
    },
    {
      "cell_type": "code",
      "execution_count": null,
      "metadata": {
        "colab": {
          "base_uri": "https://localhost:8080/"
        },
        "id": "Yk_mmcmFCO6A",
        "outputId": "480fe337-bff7-40e9-fc77-c1c36dac9448"
      },
      "outputs": [
        {
          "name": "stdout",
          "output_type": "stream",
          "text": [
            "[67, 'Daniel']\n"
          ]
        }
      ],
      "source": [
        "# List Slicing (getting more than one element from a list)\n",
        "my_list = [67,\"Daniel\", 34]\n",
        "print(my_list[0:2])"
      ]
    },
    {
      "cell_type": "code",
      "execution_count": null,
      "metadata": {
        "colab": {
          "base_uri": "https://localhost:8080/"
        },
        "id": "jBzpG8TiCjAU",
        "outputId": "72a10c43-84a2-4e90-b54f-405079638716"
      },
      "outputs": [
        {
          "name": "stdout",
          "output_type": "stream",
          "text": [
            "[5, 6, 7, 8, 9]\n"
          ]
        }
      ],
      "source": [
        "# Obtain elements starting from index 3 to end\n",
        "my_list = [67,\"Daniel\", 34,5,6,7,8,9]\n",
        "print(my_list[3:])"
      ]
    },
    {
      "cell_type": "code",
      "execution_count": null,
      "metadata": {
        "colab": {
          "base_uri": "https://localhost:8080/"
        },
        "id": "ME7AI5m0C0O8",
        "outputId": "0036f1a5-b4b9-4dde-c518-9fcbd70e0f00"
      },
      "outputs": [
        {
          "name": "stdout",
          "output_type": "stream",
          "text": [
            "[67, 'Daniel', 34, 5, 6, 7, 8, 9]\n"
          ]
        }
      ],
      "source": [
        "# All elements start to end\n",
        "print(my_list[:])"
      ]
    },
    {
      "cell_type": "code",
      "execution_count": null,
      "metadata": {
        "colab": {
          "base_uri": "https://localhost:8080/"
        },
        "id": "jsyMgoJ6C4Vg",
        "outputId": "2222399a-9aa5-4d76-b4e5-3fb86d7e0204"
      },
      "outputs": [
        {
          "name": "stdout",
          "output_type": "stream",
          "text": [
            "8\n"
          ]
        }
      ],
      "source": [
        "# Obtain the length of the list\n",
        "print(len(my_list))"
      ]
    },
    {
      "cell_type": "markdown",
      "metadata": {
        "id": "UUsgICqCDKYG"
      },
      "source": [
        "**MINI CHALLENGE**\n",
        "\n",
        "* Print NAME\n",
        "* Print AGE, NAME, KOFI\n",
        "* Print T with two different ways\n",
        "\n",
        "  my_list = [\"KWAMI\", [\"AGE\", \"NAME\", \"KOFI\"], \"YAW\", \"T\"]"
      ]
    },
    {
      "cell_type": "code",
      "execution_count": null,
      "metadata": {
        "colab": {
          "base_uri": "https://localhost:8080/"
        },
        "id": "5sLf__DlDO5H",
        "outputId": "dd554a9e-9bc5-4b5d-d860-df0ffb263e96"
      },
      "outputs": [
        {
          "name": "stdout",
          "output_type": "stream",
          "text": [
            "['apple', 'banana', 'watermelon']\n"
          ]
        }
      ],
      "source": [
        "# Change item value\n",
        "\n",
        "thislist = [\"apple\", \"banana\",'Lilian']\n",
        "thislist[2]=\"watermelon\"\n",
        "print(thislist)"
      ]
    },
    {
      "cell_type": "markdown",
      "metadata": {
        "id": "bVxDjFRh8gPF"
      },
      "source": [
        "# **Python Objects and Data Structure Basics**"
      ]
    },
    {
      "cell_type": "markdown",
      "metadata": {
        "id": "iJKZ64rt9DNt"
      },
      "source": [
        "**Dictionaries**\n",
        "\n",
        " are used to store data values in key:value pairs.\n",
        "\n",
        "A dictionary is a collection which is ordered*, changeable and do not allow duplicates."
      ]
    },
    {
      "cell_type": "code",
      "execution_count": null,
      "metadata": {
        "colab": {
          "base_uri": "https://localhost:8080/"
        },
        "id": "GILYkEAt7pMS",
        "outputId": "e65c3e21-80dc-4291-8bbb-5c3e0fecce2a"
      },
      "outputs": [
        {
          "data": {
            "text/plain": [
              "dict"
            ]
          },
          "execution_count": 4,
          "metadata": {},
          "output_type": "execute_result"
        }
      ],
      "source": [
        "# A dictionary is a collection which is ordered*,\n",
        "# changeable and do not allow duplicates.\n",
        "\n",
        "# Define a dictionary using key-value pairs\n",
        "my_dict = {\n",
        "    'key1':'value1',\n",
        "    'key2':'value2',\n",
        "    'key3':'value3',\n",
        "}\n",
        "\n",
        "# view the dictionary\n",
        "my_dict\n",
        "\n",
        "#  type\n",
        "type(my_dict)"
      ]
    },
    {
      "cell_type": "code",
      "execution_count": null,
      "metadata": {
        "colab": {
          "base_uri": "https://localhost:8080/",
          "height": 35
        },
        "id": "S1hDorZs-fu7",
        "outputId": "437f3d06-73b1-45e5-ebf5-c0affc12354c"
      },
      "outputs": [
        {
          "data": {
            "application/vnd.google.colaboratory.intrinsic+json": {
              "type": "string"
            },
            "text/plain": [
              "'value3'"
            ]
          },
          "execution_count": 6,
          "metadata": {},
          "output_type": "execute_result"
        }
      ],
      "source": [
        "# Access a specific element in the dictionary\n",
        "my_dict['key3']"
      ]
    },
    {
      "cell_type": "code",
      "execution_count": null,
      "metadata": {
        "colab": {
          "base_uri": "https://localhost:8080/"
        },
        "id": "tnaVFZtm_BIi",
        "outputId": "9e8a4003-48e5-4c41-fa77-b22b54f06683"
      },
      "outputs": [
        {
          "name": "stdout",
          "output_type": "stream",
          "text": [
            "{'brand': 'Ford', 'model': 'Mustang', 'year': 1964}\n"
          ]
        }
      ],
      "source": [
        "#  We will create a dict to store a brand of a car, model and year\n",
        "myCar = {\n",
        "    'brand': 'Ford',\n",
        "    'model': \"Mustang\",\n",
        "    'year': 1964\n",
        "}\n",
        "# myCar\n",
        "print(myCar)"
      ]
    },
    {
      "cell_type": "code",
      "execution_count": null,
      "metadata": {
        "colab": {
          "base_uri": "https://localhost:8080/"
        },
        "id": "MAJKqUvR_nQa",
        "outputId": "ca6d6273-0aa6-40c9-b554-fd6ce9a45c6a"
      },
      "outputs": [
        {
          "name": "stdout",
          "output_type": "stream",
          "text": [
            "{'Daniel': 150000, 'Lilian': 10000, 'Damien': 9000, 'Aarnik': 30000}\n"
          ]
        }
      ],
      "source": [
        "# Define a dictionary for a bank client listing all their assets!\n",
        "myClient = {\n",
        "    \"Daniel\": 150000,\n",
        "    \"Lilian\" : 10000,\n",
        "    \"Damien\" : 9000,\n",
        "    \"Aarnik\": 30000\n",
        "}\n",
        "\n",
        "print(myClient)"
      ]
    },
    {
      "cell_type": "code",
      "execution_count": null,
      "metadata": {
        "colab": {
          "base_uri": "https://localhost:8080/"
        },
        "id": "bLIw3j3oA_SD",
        "outputId": "413ce608-b82f-4033-824a-b62ac6257b97"
      },
      "outputs": [
        {
          "name": "stdout",
          "output_type": "stream",
          "text": [
            "{'Daniel': 150000, 'Lilian': 10000, 'Damien': 9000, 'Aarnik': 30000, 'Marshal': 40000}\n",
            "{'Daniel': 150000, 'Lilian': 10000, 'Damien': 9000, 'Aarnik': 30000, 'Marshal': 40000, 'Lios': 1500}\n",
            "{'Daniel': 150000, 'Lilian': 10000, 'Damien': 9000, 'Aarnik': 30000, 'Marshal': 40000}\n"
          ]
        }
      ],
      "source": [
        "# Assignment\n",
        "\n",
        "# Define a dictionary for a school listing 5 students and thier school fees\n",
        "\n",
        "school_fees = {\n",
        "    \"Daniel\": 150000,\n",
        "    \"Lilian\" : 10000,\n",
        "    \"Damien\" : 9000,\n",
        "    \"Aarnik\": 30000,\n",
        "    \"Marshal\": 40000\n",
        "}\n",
        "print(school_fees)\n",
        "\n",
        "# Adding a new item to the existing dictionary\n",
        "school_fees[\"Lios\"] = 1500\n",
        "print(school_fees)\n",
        "\n",
        "# Remove an item from the dictionary\n",
        "del school_fees[\"Lios\"]\n",
        "print(school_fees)\n"
      ]
    },
    {
      "cell_type": "code",
      "execution_count": null,
      "metadata": {
        "colab": {
          "base_uri": "https://localhost:8080/",
          "height": 193
        },
        "id": "jj8lYa9aNiQ6",
        "outputId": "3bee7b2e-32c4-469f-cd9c-a926c8d691db"
      },
      "outputs": [
        {
          "ename": "NameError",
          "evalue": "name 'school_fees' is not defined",
          "output_type": "error",
          "traceback": [
            "\u001b[0;31m---------------------------------------------------------------------------\u001b[0m",
            "\u001b[0;31mNameError\u001b[0m                                 Traceback (most recent call last)",
            "\u001b[0;32m<ipython-input-38-fa2441735c53>\u001b[0m in \u001b[0;36m<cell line: 2>\u001b[0;34m()\u001b[0m\n\u001b[1;32m      1\u001b[0m \u001b[0;31m# To delete the entire dictionary\u001b[0m\u001b[0;34m\u001b[0m\u001b[0;34m\u001b[0m\u001b[0m\n\u001b[0;32m----> 2\u001b[0;31m \u001b[0;32mdel\u001b[0m \u001b[0;34m(\u001b[0m\u001b[0mschool_fees\u001b[0m\u001b[0;34m)\u001b[0m\u001b[0;34m\u001b[0m\u001b[0;34m\u001b[0m\u001b[0m\n\u001b[0m",
            "\u001b[0;31mNameError\u001b[0m: name 'school_fees' is not defined"
          ]
        }
      ],
      "source": [
        "# To delete the entire dictionary\n",
        "del (school_fees)"
      ]
    },
    {
      "cell_type": "code",
      "execution_count": null,
      "metadata": {
        "colab": {
          "base_uri": "https://localhost:8080/"
        },
        "id": "Tfd0LTthGVVd",
        "outputId": "47d92270-b92f-4fb3-e7da-436cb7c99136"
      },
      "outputs": [
        {
          "data": {
            "text/plain": [
              "30000"
            ]
          },
          "execution_count": 24,
          "metadata": {},
          "output_type": "execute_result"
        }
      ],
      "source": [
        "# Access a specific element in the dictionary\n",
        "school_fees['Aarnik']"
      ]
    },
    {
      "cell_type": "markdown",
      "metadata": {
        "id": "rUr835MiOrd6"
      },
      "source": [
        "**Assignment 28th January, 2024**\n",
        "\n",
        "Create a dictionary with 6 of your favourite items and their prices"
      ]
    },
    {
      "cell_type": "code",
      "execution_count": null,
      "metadata": {
        "colab": {
          "base_uri": "https://localhost:8080/"
        },
        "id": "-zwq4bopOzMy",
        "outputId": "0d2e6d5f-1221-481d-8453-c176f71357f5"
      },
      "outputs": [
        {
          "name": "stdout",
          "output_type": "stream",
          "text": [
            "{'milo': 150000, 'Milk': 10000, 'Soap': 9000, 'Omo': 30000, 'Sugar': 40000}\n"
          ]
        }
      ],
      "source": [
        "favourite_items = {\n",
        "    \"milo\": 150000,\n",
        "    \"Milk\" : 10000,\n",
        "    \"Soap\" : 9000,\n",
        "    \"Omo\": 30000,\n",
        "    \"Sugar\": 40000\n",
        "}\n",
        "print(favourite_items)"
      ]
    },
    {
      "cell_type": "markdown",
      "metadata": {
        "id": "YyKr-SfXzgk0"
      },
      "source": [
        "**Tuples with Python**\n",
        "\n",
        "Tuples are used to store multiple items in a single variable"
      ]
    },
    {
      "cell_type": "code",
      "execution_count": null,
      "metadata": {
        "colab": {
          "base_uri": "https://localhost:8080/"
        },
        "id": "AmTcss6ozrai",
        "outputId": "f31c4729-2fd1-4fe2-c495-027fb2983c95"
      },
      "outputs": [
        {
          "name": "stdout",
          "output_type": "stream",
          "text": [
            "('NAME', 'AGE', 10, 15, 1999)\n"
          ]
        }
      ],
      "source": [
        "# Tuples are sequences, just like lists\n",
        "# The differences between tuples and lists are, the tuples cannot be changed unlike lists and tuples use parentheses, whereas lists use square brackets.\n",
        "\n",
        "tuple_1 = (\"NAME\", 'AGE', 10, 15, 1999);\n",
        "tuple_2 = (450, 55, 977, 2100);\n",
        "print(tuple_1)\n"
      ]
    },
    {
      "cell_type": "code",
      "execution_count": null,
      "metadata": {
        "colab": {
          "base_uri": "https://localhost:8080/",
          "height": 35
        },
        "id": "ap8dTmZj1De4",
        "outputId": "2c15b635-85f6-465a-80b3-734c411e783a"
      },
      "outputs": [
        {
          "data": {
            "application/vnd.google.colaboratory.intrinsic+json": {
              "type": "string"
            },
            "text/plain": [
              "'AGE'"
            ]
          },
          "execution_count": 3,
          "metadata": {},
          "output_type": "execute_result"
        }
      ],
      "source": [
        "# Accessing elements in the tuple\n",
        "tuple_1[1]"
      ]
    },
    {
      "cell_type": "code",
      "execution_count": null,
      "metadata": {
        "colab": {
          "base_uri": "https://localhost:8080/"
        },
        "id": "fmdPFBYK1mex",
        "outputId": "7fa0c169-e418-4e59-d179-b6612a4fea23"
      },
      "outputs": [
        {
          "data": {
            "text/plain": [
              "('AGE', 10)"
            ]
          },
          "execution_count": 6,
          "metadata": {},
          "output_type": "execute_result"
        }
      ],
      "source": [
        "# Accessing elements in the tuple using slicing\n",
        "tuple_1[1:3]"
      ]
    },
    {
      "cell_type": "code",
      "execution_count": null,
      "metadata": {
        "colab": {
          "base_uri": "https://localhost:8080/"
        },
        "id": "qPvM4GtC2A68",
        "outputId": "0ef4622d-fe7d-4b48-f6df-2cf566c54397"
      },
      "outputs": [
        {
          "data": {
            "text/plain": [
              "5"
            ]
          },
          "execution_count": 7,
          "metadata": {},
          "output_type": "execute_result"
        }
      ],
      "source": [
        "# Finding the len of tuple_1\n",
        "len(tuple_1)"
      ]
    },
    {
      "cell_type": "code",
      "execution_count": null,
      "metadata": {
        "colab": {
          "base_uri": "https://localhost:8080/"
        },
        "id": "dcA3k6XD2RBE",
        "outputId": "e100686f-d4cf-4c24-add2-ba18944cbf51"
      },
      "outputs": [
        {
          "data": {
            "text/plain": [
              "tuple"
            ]
          },
          "execution_count": 8,
          "metadata": {},
          "output_type": "execute_result"
        }
      ],
      "source": [
        "# Finding the type of tuple_1\n",
        "type(tuple_1)"
      ]
    },
    {
      "cell_type": "code",
      "execution_count": null,
      "metadata": {
        "colab": {
          "base_uri": "https://localhost:8080/"
        },
        "id": "uXmOKM1P2b5n",
        "outputId": "ff52564b-b61b-4287-e99d-0108f3caffdf"
      },
      "outputs": [
        {
          "name": "stdout",
          "output_type": "stream",
          "text": [
            "('NAME', 'AGE', 10, 15, 1999, 450, 55, 977, 2100)\n"
          ]
        }
      ],
      "source": [
        "# Concate both tuples\n",
        "tuple_1 = (\"NAME\", 'AGE', 10, 15, 1999);\n",
        "tuple_2 = (450, 55, 977, 2100);\n",
        "\n",
        "tuple_3 = tuple_1 + tuple_2\n",
        "print(tuple_3)"
      ]
    },
    {
      "cell_type": "markdown",
      "metadata": {
        "id": "w0abhMty3afj"
      },
      "source": [
        "**Set in Python**\n",
        "\n",
        "A set is a collection of unique data, meaning that elements within a set cannot be duplicated.\n"
      ]
    },
    {
      "cell_type": "code",
      "execution_count": null,
      "metadata": {
        "colab": {
          "base_uri": "https://localhost:8080/"
        },
        "id": "y2g4Gl2p341K",
        "outputId": "7255a8a0-ef8a-4e0c-a25e-1a27dbb8c517"
      },
      "outputs": [
        {
          "name": "stdout",
          "output_type": "stream",
          "text": [
            "{'T', 'AGE', 'NAME'}\n"
          ]
        }
      ],
      "source": [
        "# A set is an unordered collection of items. Every element is unique (no duplicates).\n",
        "# A set is created by placing all the items (elements) inside curly braces {}, separated by comma or by using the built-in function set().\n",
        "# set of integers\n",
        "\n",
        "my_set = {'NAME', 'AGE', 'T'}\n",
        "print(my_set)"
      ]
    },
    {
      "cell_type": "code",
      "execution_count": null,
      "metadata": {
        "colab": {
          "base_uri": "https://localhost:8080/"
        },
        "id": "MWd-52Z34VSl",
        "outputId": "fdf1b83e-2641-41ef-df60-222752081769"
      },
      "outputs": [
        {
          "name": "stdout",
          "output_type": "stream",
          "text": [
            "{'T', 'AGE', 'SEX', 'NAME'}\n"
          ]
        }
      ],
      "source": [
        "# Set do not have duplicates\n",
        "my_set1 = {'NAME', 'AGE', 'T', 'SEX', 'T', 'AGE'}\n",
        "print(my_set1)"
      ]
    },
    {
      "cell_type": "code",
      "execution_count": null,
      "metadata": {
        "colab": {
          "base_uri": "https://localhost:8080/"
        },
        "id": "aEYBjHSY5Lna",
        "outputId": "6a2354e8-e73a-4637-8ee2-e7436cb3c8bb"
      },
      "outputs": [
        {
          "data": {
            "text/plain": [
              "4"
            ]
          },
          "execution_count": 12,
          "metadata": {},
          "output_type": "execute_result"
        }
      ],
      "source": [
        "len(my_set1)"
      ]
    },
    {
      "cell_type": "code",
      "execution_count": null,
      "metadata": {
        "colab": {
          "base_uri": "https://localhost:8080/"
        },
        "id": "F3LDkD_a5Wpq",
        "outputId": "8b2e3d56-2877-4833-e9ff-71436002fdb7"
      },
      "outputs": [
        {
          "data": {
            "text/plain": [
              "set"
            ]
          },
          "execution_count": 13,
          "metadata": {},
          "output_type": "execute_result"
        }
      ],
      "source": [
        "type(my_set1)"
      ]
    },
    {
      "cell_type": "markdown",
      "metadata": {
        "id": "LOObckL7EYGW"
      },
      "source": [
        "**Add and Update Set Items in Python**"
      ]
    },
    {
      "cell_type": "code",
      "execution_count": null,
      "metadata": {
        "colab": {
          "base_uri": "https://localhost:8080/"
        },
        "id": "GlTA_U_8EVa8",
        "outputId": "3bed62fa-f628-4b5d-a714-962466cf3604"
      },
      "outputs": [
        {
          "name": "stdout",
          "output_type": "stream",
          "text": [
            "Initial Set:  {34, 12, 21, 54}\n",
            "Updated Set:  {32, 34, 12, 21, 54}\n"
          ]
        }
      ],
      "source": [
        "numbers = {21, 34, 54, 12}\n",
        "print('Initial Set: ', numbers)\n",
        "\n",
        "# Using add() method\n",
        "numbers.add(32)\n",
        "print('Updated Set: ', numbers)\n"
      ]
    },
    {
      "cell_type": "code",
      "execution_count": null,
      "metadata": {
        "colab": {
          "base_uri": "https://localhost:8080/"
        },
        "id": "hu7rC02LFNAO",
        "outputId": "204fd58a-6a50-4e0d-d930-1b507a2cf504"
      },
      "outputs": [
        {
          "name": "stdout",
          "output_type": "stream",
          "text": [
            "{'Ralph Lauren', 'google', 'apple', 'Lacoste'}\n"
          ]
        }
      ],
      "source": [
        "companies = {'Lacoste', 'Ralph Lauren'}\n",
        "tech_companies = ['apple', 'google', 'apple']\n",
        "\n",
        "# Using update() method\n",
        "companies.update(tech_companies)\n",
        "\n",
        "print(companies)"
      ]
    },
    {
      "cell_type": "markdown",
      "metadata": {
        "id": "Zs1uE2SbF7XM"
      },
      "source": [
        "**Remove an Element from a Set**"
      ]
    },
    {
      "cell_type": "code",
      "execution_count": null,
      "metadata": {
        "colab": {
          "base_uri": "https://localhost:8080/"
        },
        "id": "DdpaAa01GCT_",
        "outputId": "24aa4fcb-bc9e-40ef-ed8e-184b5eba897e"
      },
      "outputs": [
        {
          "name": "stdout",
          "output_type": "stream",
          "text": [
            "Initial Set:  {'HTML', 'PHP', 'Java', 'Booststrap', 'JavaScript', 'CSS', 'Laravel', 'Python', 'MySQL'}\n",
            "Set after remove():  {'HTML', 'PHP', 'Java', 'JavaScript', 'CSS', 'Laravel', 'Python', 'MySQL'}\n"
          ]
        }
      ],
      "source": [
        "languages = {'PHP', 'JavaScript', 'HTML', 'CSS', 'Python', 'MySQL', 'Booststrap', 'Java', 'Laravel'}\n",
        "print('Initial Set: ', languages)\n",
        "\n",
        "# remove 'Booststrap' from the set\n",
        "removeValue = languages.discard('Booststrap')\n",
        "print('Set after remove(): ', languages)\n"
      ]
    },
    {
      "cell_type": "markdown",
      "metadata": {
        "id": "XS1QAYXd6fNp"
      },
      "source": [
        "**Booleans in Python**\n",
        "\n",
        "Boolean values can be represented as one of two constant objects \"False\" and \"True\".\n",
        "\n",
        "Booleans behave like integers 0 and 1.\n",
        "\n",
        "True\n",
        "     "
      ]
    },
    {
      "cell_type": "code",
      "execution_count": null,
      "metadata": {
        "colab": {
          "base_uri": "https://localhost:8080/"
        },
        "id": "Smt3jwmZ62bL",
        "outputId": "e4a787fa-1440-4fa8-e9de-5ff1cfc4c702"
      },
      "outputs": [
        {
          "name": "stdout",
          "output_type": "stream",
          "text": [
            "False\n"
          ]
        }
      ],
      "source": [
        "number_of_goats = 100\n",
        "number_of_sheep = 200\n",
        "\n",
        "print(number_of_goats == number_of_sheep)"
      ]
    },
    {
      "cell_type": "code",
      "execution_count": null,
      "metadata": {
        "colab": {
          "base_uri": "https://localhost:8080/"
        },
        "id": "6lwUrvo-72O6",
        "outputId": "b146bc41-4c3c-4f29-941b-4d4d74041be4"
      },
      "outputs": [
        {
          "name": "stdout",
          "output_type": "stream",
          "text": [
            "True\n"
          ]
        }
      ],
      "source": [
        "number_of_boys = 100\n",
        "number_of_girls = 100\n",
        "\n",
        "print(number_of_boys == number_of_girls)"
      ]
    },
    {
      "cell_type": "markdown",
      "metadata": {
        "id": "jDXiFU7U8cyr"
      },
      "source": [
        "**Assignments on Tuple, Set and Boolean**\n",
        "\n",
        "3rd February, 2024\n",
        "\n",
        "**MINI CHALLENGE #1:**\n",
        "\n",
        "* **What will this code generate?**\n",
        "```\n",
        "      number_of_pens = 20\n",
        "      number_of_bicycles = 30\n",
        "      print((number_of_pens < number_of_bicycles))\n",
        "      print(number_of_pens == number_of_bicycles)\n",
        "```\n",
        "\n"
      ]
    },
    {
      "cell_type": "code",
      "execution_count": null,
      "metadata": {
        "colab": {
          "base_uri": "https://localhost:8080/"
        },
        "id": "JrjCviHC8n5M",
        "outputId": "fc29f026-b7d5-4758-ed1a-4b65bf3ba6f2"
      },
      "outputs": [
        {
          "name": "stdout",
          "output_type": "stream",
          "text": [
            "True\n",
            "False\n"
          ]
        }
      ],
      "source": [
        "number_of_pens = 20\n",
        "number_of_bicycles = 30\n",
        "print((number_of_pens < number_of_bicycles))\n",
        "print(number_of_pens == number_of_bicycles)"
      ]
    },
    {
      "cell_type": "markdown",
      "metadata": {
        "id": "gbZytQemAAln"
      },
      "source": [
        "**MINI CHALLENGE #2:**\n",
        "\n",
        "**Define a tuple with your first name, last name, age and the number of friends you have. Find the length and type as well.**"
      ]
    },
    {
      "cell_type": "code",
      "execution_count": null,
      "metadata": {
        "colab": {
          "base_uri": "https://localhost:8080/"
        },
        "id": "8gOqWOijAIWW",
        "outputId": "5d5c2c76-d2c9-4a9f-8c43-bd976a3a8cc7"
      },
      "outputs": [
        {
          "name": "stdout",
          "output_type": "stream",
          "text": [
            "('Gabby', 'Marshal', 10, 15)\n",
            "4\n",
            "<class 'tuple'>\n"
          ]
        }
      ],
      "source": [
        "myTuple = (\"Gabby\", 'Marshal', 10, 15);\n",
        "\n",
        "print(myTuple)\n",
        "\n",
        "print(len(myTuple))\n",
        "\n",
        "\n",
        "print(type(myTuple))\n",
        "\n"
      ]
    },
    {
      "cell_type": "markdown",
      "metadata": {
        "id": "fkBftYrG5Pz8"
      },
      "source": [
        "# **Python Comparison Operators**"
      ]
    },
    {
      "cell_type": "markdown",
      "metadata": {
        "id": "bmACz16k5Vnh"
      },
      "source": [
        "Operators are used to perform operations on variables and values."
      ]
    },
    {
      "cell_type": "code",
      "execution_count": null,
      "metadata": {
        "colab": {
          "base_uri": "https://localhost:8080/"
        },
        "id": "5TY2lva-5UTz",
        "outputId": "383fae2c-2d94-4756-e6b2-876bd4fb82be"
      },
      "outputs": [
        {
          "data": {
            "text/plain": [
              "True"
            ]
          },
          "execution_count": 4,
          "metadata": {},
          "output_type": "execute_result"
        }
      ],
      "source": [
        "# Comparison Operator output could be \"True\" or \"False\"\n",
        "#  Let's cover equall'==' comparison\n",
        "# It's simply a question: \"Is number_of_girls equals number_of_boys or not?\"\n",
        "# \"True\" output means condition is satisfied\n",
        "# \"False\" output means Condition is not satisfied (condition is not true)\n",
        "\n",
        "number_of_females = 1000\n",
        "number_of_males = 1000\n",
        "\n",
        "number_of_females == number_of_males"
      ]
    },
    {
      "cell_type": "code",
      "execution_count": null,
      "metadata": {
        "colab": {
          "base_uri": "https://localhost:8080/"
        },
        "id": "ibcMfAs16i0h",
        "outputId": "b6686101-c64a-46d9-f1cf-5f308f45b4e8"
      },
      "outputs": [
        {
          "data": {
            "text/plain": [
              "True"
            ]
          },
          "execution_count": 5,
          "metadata": {},
          "output_type": "execute_result"
        }
      ],
      "source": [
        "# Greater than or equal operator '>='\n",
        "\n",
        "number_of_females = 5000\n",
        "number_of_males = 1000\n",
        "\n",
        "number_of_females >= number_of_males"
      ]
    },
    {
      "cell_type": "code",
      "execution_count": null,
      "metadata": {
        "colab": {
          "base_uri": "https://localhost:8080/"
        },
        "id": "DWZD9X987BoB",
        "outputId": "0873b7d9-2dde-4780-fa3f-eafeeb684690"
      },
      "outputs": [
        {
          "data": {
            "text/plain": [
              "False"
            ]
          },
          "execution_count": 6,
          "metadata": {},
          "output_type": "execute_result"
        }
      ],
      "source": [
        "# Less than or equal operator '>='\n",
        "\n",
        "number_of_females = 5000\n",
        "number_of_males = 1000\n",
        "\n",
        "number_of_females <= number_of_males\n"
      ]
    },
    {
      "cell_type": "code",
      "execution_count": null,
      "metadata": {
        "colab": {
          "base_uri": "https://localhost:8080/"
        },
        "id": "N8v6r3up7wBy",
        "outputId": "73ebb0be-fe26-4512-9255-20ab142849c4"
      },
      "outputs": [
        {
          "data": {
            "text/plain": [
              "False"
            ]
          },
          "execution_count": 8,
          "metadata": {},
          "output_type": "execute_result"
        }
      ],
      "source": [
        "# Not equal operator '!='\n",
        "\n",
        "number_of_females = 1000\n",
        "number_of_males = 1000\n",
        "\n",
        "number_of_females != number_of_males\n"
      ]
    },
    {
      "cell_type": "markdown",
      "metadata": {
        "id": "5JxWsbOX8NmO"
      },
      "source": [
        "**Assignment**\n",
        "\n",
        "4th February, 2024\n",
        "\n",
        "```\n",
        "number_of_books = 15\n",
        "number_of_pens = 10\n",
        "\n",
        "Use the above variables to perform the below operations\n",
        "* <\n",
        "* >\n",
        "* <=\n",
        "* >=\n",
        "* !=\n",
        "* ==\n",
        "```\n",
        "\n"
      ]
    },
    {
      "cell_type": "code",
      "execution_count": null,
      "metadata": {
        "id": "5IW7SHtw8ujd"
      },
      "outputs": [],
      "source": []
    },
    {
      "cell_type": "markdown",
      "metadata": {
        "id": "SqPeTVLjDIYU"
      },
      "source": [
        "**Chaining Comparison Operators in Python with Logical Operators**"
      ]
    },
    {
      "cell_type": "code",
      "execution_count": null,
      "metadata": {
        "colab": {
          "base_uri": "https://localhost:8080/"
        },
        "id": "jAXSARJeDLUZ",
        "outputId": "15cb6eb0-6e1e-423a-f226-bbca9e529bfd"
      },
      "outputs": [
        {
          "data": {
            "text/plain": [
              "True"
            ]
          },
          "execution_count": 9,
          "metadata": {},
          "output_type": "execute_result"
        }
      ],
      "source": [
        "# For \"and\" logical operators, both arguments must be \"True\" in order for the output to be \"True\"\n",
        "# (Note that this is the only case in which the 'and' logical operator generates a True output)\n",
        "# 1 and 1 = 1\n",
        "True and True"
      ]
    },
    {
      "cell_type": "code",
      "execution_count": null,
      "metadata": {
        "colab": {
          "base_uri": "https://localhost:8080/"
        },
        "id": "paX6SQBYDoqO",
        "outputId": "2a0edd46-a94a-42b4-d860-d688950afc00"
      },
      "outputs": [
        {
          "data": {
            "text/plain": [
              "False"
            ]
          },
          "execution_count": 12,
          "metadata": {},
          "output_type": "execute_result"
        }
      ],
      "source": [
        "# 0 and 1 = 0\n",
        "False and True"
      ]
    },
    {
      "cell_type": "code",
      "execution_count": null,
      "metadata": {
        "colab": {
          "base_uri": "https://localhost:8080/"
        },
        "id": "RdfLFjX6EDKV",
        "outputId": "f8a09a47-def3-418b-b7ae-238c4f17eaf2"
      },
      "outputs": [
        {
          "data": {
            "text/plain": [
              "True"
            ]
          },
          "execution_count": 15,
          "metadata": {},
          "output_type": "execute_result"
        }
      ],
      "source": [
        "# 1 and 1 = 1\n",
        "\n",
        "True and True"
      ]
    },
    {
      "cell_type": "code",
      "execution_count": null,
      "metadata": {
        "colab": {
          "base_uri": "https://localhost:8080/"
        },
        "id": "2R_axw7lETh7",
        "outputId": "397c9826-04ee-4c20-b2cf-ed85ed7e7956"
      },
      "outputs": [
        {
          "data": {
            "text/plain": [
              "True"
            ]
          },
          "execution_count": 17,
          "metadata": {},
          "output_type": "execute_result"
        }
      ],
      "source": [
        "# 1 or 1 = 1\n",
        "True or True"
      ]
    },
    {
      "cell_type": "code",
      "execution_count": null,
      "metadata": {
        "colab": {
          "base_uri": "https://localhost:8080/"
        },
        "id": "aN622Vj8Ehpt",
        "outputId": "34304d01-3c27-4075-a2a2-c1dc2ba67a46"
      },
      "outputs": [
        {
          "data": {
            "text/plain": [
              "False"
            ]
          },
          "execution_count": 19,
          "metadata": {},
          "output_type": "execute_result"
        }
      ],
      "source": [
        "False or False"
      ]
    },
    {
      "cell_type": "code",
      "execution_count": null,
      "metadata": {
        "colab": {
          "base_uri": "https://localhost:8080/"
        },
        "id": "5SsfhNjFE2qN",
        "outputId": "18b57421-a431-44b5-ba43-7c5dfe08e910"
      },
      "outputs": [
        {
          "data": {
            "text/plain": [
              "False"
            ]
          },
          "execution_count": 36,
          "metadata": {},
          "output_type": "execute_result"
        }
      ],
      "source": [
        "(12==10) or (9>3)"
      ]
    },
    {
      "cell_type": "code",
      "execution_count": null,
      "metadata": {
        "colab": {
          "base_uri": "https://localhost:8080/"
        },
        "id": "TVX2oUOqFh4c",
        "outputId": "2fffef89-6ca3-4efa-cff4-fdaad710612a"
      },
      "outputs": [
        {
          "data": {
            "text/plain": [
              "False"
            ]
          },
          "execution_count": 35,
          "metadata": {},
          "output_type": "execute_result"
        }
      ],
      "source": [
        "(12==10) and (9>3)"
      ]
    },
    {
      "cell_type": "code",
      "execution_count": null,
      "metadata": {
        "id": "Tm4TfQwbFlPR"
      },
      "outputs": [],
      "source": []
    },
    {
      "cell_type": "markdown",
      "metadata": {
        "id": "EcXAtp2yF5r5"
      },
      "source": [
        "**MINI CHALLENGE #2:**\n",
        "\n",
        "    * **Without executing the code cell, What will these two lines of code generate?**\n",
        "\n",
        "    print('PYTHON'!='PYTHON' and (10 > 3) and (20 == 20))\n",
        "    print('Python'!='PYTHON' or (16 > 20) or (25 == 25))"
      ]
    },
    {
      "cell_type": "code",
      "execution_count": null,
      "metadata": {
        "colab": {
          "base_uri": "https://localhost:8080/"
        },
        "id": "7gcWV3aCGKxy",
        "outputId": "d2363525-09b0-4387-cc4f-42a450663715"
      },
      "outputs": [
        {
          "name": "stdout",
          "output_type": "stream",
          "text": [
            "False\n"
          ]
        }
      ],
      "source": [
        "print('PYTHON'!='PYTHON' and (10 > 3) and (20 == 20))"
      ]
    },
    {
      "cell_type": "code",
      "execution_count": null,
      "metadata": {
        "colab": {
          "base_uri": "https://localhost:8080/"
        },
        "id": "51xgKG4aJTZ4",
        "outputId": "13c0fe19-985a-466b-e7ac-4495e0b97182"
      },
      "outputs": [
        {
          "name": "stdout",
          "output_type": "stream",
          "text": [
            "True\n"
          ]
        }
      ],
      "source": [
        "print('Python'!='PYTHON' or (16 > 20) or (25 == 25))"
      ]
    },
    {
      "cell_type": "markdown",
      "metadata": {
        "id": "RoSmmzOTOQ1p"
      },
      "source": [
        "**MINI CHALLENGE #3:**\n",
        "\n",
        "    Without executing the code cell, What will these two lines of code generate?\n",
        "    a = 5\n",
        "    b = 3.5\n",
        "\n",
        "    print(a == b or a != b)\n",
        "    print(a == b and a != b)"
      ]
    },
    {
      "cell_type": "code",
      "execution_count": null,
      "metadata": {
        "id": "XKppLyIlOXq2"
      },
      "outputs": [],
      "source": []
    },
    {
      "cell_type": "markdown",
      "metadata": {
        "id": "eeUjKLcI8qeb"
      },
      "source": [
        "# **Python Statement**"
      ]
    },
    {
      "cell_type": "markdown",
      "metadata": {
        "id": "wx2M6gvj9k1D"
      },
      "source": [
        "The **if** statement contains a logical expression using which data is compared and a decision is made based on the result of the comparison."
      ]
    },
    {
      "cell_type": "code",
      "execution_count": null,
      "metadata": {
        "colab": {
          "base_uri": "https://localhost:8080/"
        },
        "id": "Af7uQkRX9EoD",
        "outputId": "f17a6346-e357-4ce2-8620-d06a4e746bf6"
      },
      "outputs": [
        {
          "name": "stdout",
          "output_type": "stream",
          "text": [
            "b is greater than\n"
          ]
        }
      ],
      "source": [
        "a = 33\n",
        "b = 200\n",
        "\n",
        "if b > a:\n",
        "  print(\"b is greater than a\")"
      ]
    },
    {
      "cell_type": "code",
      "execution_count": null,
      "metadata": {
        "colab": {
          "base_uri": "https://localhost:8080/"
        },
        "id": "3HbrWAE-_T2q",
        "outputId": "75f5c1e6-eee0-49e8-c36c-d8084f25e959"
      },
      "outputs": [
        {
          "name": "stdout",
          "output_type": "stream",
          "text": [
            "b is not equal to a\n"
          ]
        }
      ],
      "source": [
        "a = 33\n",
        "b = 200\n",
        "\n",
        "if b != a:\n",
        "  print(\"b is not equal to a\")"
      ]
    },
    {
      "cell_type": "code",
      "execution_count": null,
      "metadata": {
        "colab": {
          "base_uri": "https://localhost:8080/"
        },
        "id": "v4rNF_hQ_dJK",
        "outputId": "b5c534cc-be25-4d65-87b0-fed2812354f9"
      },
      "outputs": [
        {
          "name": "stdout",
          "output_type": "stream",
          "text": [
            "b is equal to a\n"
          ]
        }
      ],
      "source": [
        "a = 200\n",
        "b = 200\n",
        "\n",
        "if b == a:\n",
        "  print(\"b is equal to a\")"
      ]
    },
    {
      "cell_type": "markdown",
      "metadata": {
        "id": "JnGJTo_P_wgA"
      },
      "source": [
        "**Example**\n",
        "\n",
        "Damien amount of sobolo bought with it applicable discount"
      ]
    },
    {
      "cell_type": "code",
      "execution_count": null,
      "metadata": {
        "colab": {
          "base_uri": "https://localhost:8080/"
        },
        "id": "bHhTDmAW_09z",
        "outputId": "4d1ecf9c-c82b-4292-b9da-1e1a5495bfcc"
      },
      "outputs": [
        {
          "name": "stdout",
          "output_type": "stream",
          "text": [
            "amount to be paid=  9.0\n"
          ]
        }
      ],
      "source": [
        "# If Statement\n",
        "\n",
        "sobolo_discount = 0\n",
        "sobolo_amount = 10\n",
        "\n",
        "# Check his amount of sobolo bought\n",
        "if sobolo_amount > 5:\n",
        "  sobolo_discount = sobolo_amount * 10/100\n",
        "\n",
        "  print(\"amount to be paid= \", sobolo_amount - sobolo_discount)"
      ]
    },
    {
      "cell_type": "code",
      "execution_count": null,
      "metadata": {
        "colab": {
          "base_uri": "https://localhost:8080/"
        },
        "id": "iJI0qeHzFSSG",
        "outputId": "8a90f3c7-2522-477d-a79c-b47a2f986d4d"
      },
      "outputs": [
        {
          "name": "stdout",
          "output_type": "stream",
          "text": [
            "a and b are equal\n"
          ]
        }
      ],
      "source": [
        "# Elif\n",
        "\n",
        "a = 33\n",
        "b = 33\n",
        "\n",
        "if b > a:\n",
        "  print(\"b is greater than a\")\n",
        "elif a == b:\n",
        "  print(\"a and b are equal\")"
      ]
    },
    {
      "cell_type": "code",
      "execution_count": null,
      "metadata": {
        "id": "WqZEFVEbGF45"
      },
      "outputs": [],
      "source": [
        "# Elif Statement\n",
        "\n",
        "sobolo_discount = 0\n",
        "sobolo_amount = 30\n",
        "\n",
        "# Check his amount of sobolo bought\n",
        "if sobolo_amount > 20:\n",
        "     sobolo_discount = sobolo_amount * 15/100\n",
        "elif  sobolo_amount > 5:\n",
        "  sobolo_discount = sobolo_amount * 10/100\n",
        "\n",
        "  print(\"amount to be paid= \", sobolo_amount - sobolo_discount)"
      ]
    },
    {
      "cell_type": "code",
      "execution_count": null,
      "metadata": {
        "colab": {
          "base_uri": "https://localhost:8080/"
        },
        "id": "TJM-HiCYH9tz",
        "outputId": "3c972d4c-6152-48ca-dd0b-0f063bcb8c53"
      },
      "outputs": [
        {
          "name": "stdout",
          "output_type": "stream",
          "text": [
            "a is greater than b\n"
          ]
        }
      ],
      "source": [
        "# Else statement\n",
        "\n",
        "a = 200\n",
        "b = 33\n",
        "\n",
        "if b > a:\n",
        "  print(\"b is greater than a\")\n",
        "elif a == b:\n",
        "    print(\"a and b are equal\")\n",
        "else:\n",
        "    print(\"a is greater than b\")"
      ]
    },
    {
      "cell_type": "code",
      "execution_count": null,
      "metadata": {
        "colab": {
          "base_uri": "https://localhost:8080/"
        },
        "id": "WvBcNAfUIyYy",
        "outputId": "a10a2765-8cf4-4f1f-8922-f7dd5f352770"
      },
      "outputs": [
        {
          "name": "stdout",
          "output_type": "stream",
          "text": [
            "amount to be paid=  25.5\n"
          ]
        }
      ],
      "source": [
        "# if, Elif and Else Statement\n",
        "\n",
        "sobolo_discount = 0\n",
        "sobolo_amount = 30\n",
        "\n",
        "# Check his amount of sobolo bought\n",
        "if sobolo_amount > 20:\n",
        "     sobolo_discount = sobolo_amount * 15/100\n",
        "elif  sobolo_amount > 5:\n",
        "  sobolo_discount = sobolo_amount * 10/100\n",
        "else:\n",
        "   sobolo_discount = 0\n",
        "\n",
        "print(\"amount to be paid= \", sobolo_amount - sobolo_discount)"
      ]
    },
    {
      "cell_type": "markdown",
      "metadata": {
        "id": "zwPJonOeKG53"
      },
      "source": [
        "**Assignment**\n",
        "\n",
        "Consider an example of a customer entitiled to **10%** discount if his purchase amount is **> 1000;** if not, then no discount is applicable."
      ]
    },
    {
      "cell_type": "code",
      "execution_count": null,
      "metadata": {
        "colab": {
          "base_uri": "https://localhost:8080/"
        },
        "id": "aLOcUwmcKRAS",
        "outputId": "a2f0ff98-c6c9-4f07-d590-5bf6fcddd21b"
      },
      "outputs": [
        {
          "name": "stdout",
          "output_type": "stream",
          "text": [
            "amount to be paid=  1700.0\n"
          ]
        }
      ],
      "source": [
        "# if, Elif and Else Statement\n",
        "\n",
        "discount = 0\n",
        "purchase_amount = 2000\n",
        "\n",
        "# Check for the logic\n",
        "if purchase_amount > 1000:\n",
        "     discount = purchase_amount * 15/100\n",
        "elif purchase_amount > 900:\n",
        "    discount = purchase_amount * 10/100\n",
        "else:\n",
        "    discount = 0\n",
        "\n",
        "print(\"amount to be paid= \", purchase_amount - discount)"
      ]
    },
    {
      "cell_type": "markdown",
      "metadata": {
        "id": "KXnGDJMT6Ziw"
      },
      "source": [
        "**For Loops in Python**"
      ]
    },
    {
      "cell_type": "code",
      "execution_count": null,
      "metadata": {
        "colab": {
          "base_uri": "https://localhost:8080/"
        },
        "id": "qjHEAnKE6lGN",
        "outputId": "a548e626-69d0-45b2-a798-70c83ebc123f"
      },
      "outputs": [
        {
          "name": "stdout",
          "output_type": "stream",
          "text": [
            "Swift\n",
            "Python\n",
            "PHP\n",
            "PostgresSQL\n"
          ]
        }
      ],
      "source": [
        "# For loops are used for iterating over a sequence (a list, a tuple, a dictionary, a set, or a string)\n",
        "\n",
        "languages = ['Swift', 'Python', 'PHP', 'PostgresSQL']\n",
        "\n",
        "# access elements of the list one by one\n",
        "for i in languages:\n",
        "  print(i)"
      ]
    },
    {
      "cell_type": "code",
      "execution_count": null,
      "metadata": {
        "colab": {
          "base_uri": "https://localhost:8080/"
        },
        "id": "uEBLgy-n7-yl",
        "outputId": "bcc076cf-9486-4562-bae6-dd6e8f2364cc"
      },
      "outputs": [
        {
          "name": "stdout",
          "output_type": "stream",
          "text": [
            "P\n",
            "y\n",
            "t\n",
            "h\n",
            "o\n",
            "n\n"
          ]
        }
      ],
      "source": [
        "# Loop through a string\n",
        "\n",
        "language = 'Python'\n",
        "\n",
        "# iterate over each character in language\n",
        "for x in language:\n",
        "  print(x)"
      ]
    },
    {
      "cell_type": "code",
      "execution_count": null,
      "metadata": {
        "colab": {
          "base_uri": "https://localhost:8080/"
        },
        "id": "X6KE_ZC_8nhc",
        "outputId": "6a74d5e2-710e-4053-fcc3-1bf496479f01"
      },
      "outputs": [
        {
          "name": "stdout",
          "output_type": "stream",
          "text": [
            "2\n",
            "3\n",
            "4\n",
            "7\n"
          ]
        }
      ],
      "source": [
        "# Loop through numbers\n",
        "\n",
        "primes = [2, 3, 4, 7]\n",
        "#  iterate over the prime numbers\n",
        "for prime in primes:\n",
        "  print(prime)"
      ]
    },
    {
      "cell_type": "code",
      "execution_count": null,
      "metadata": {
        "colab": {
          "base_uri": "https://localhost:8080/"
        },
        "id": "AHJJQvvf-qeh",
        "outputId": "f5ab776d-6093-415d-d955-98c4d0f890c6"
      },
      "outputs": [
        {
          "name": "stdout",
          "output_type": "stream",
          "text": [
            "Aarmink\n",
            "Damien\n",
            "Lilian\n",
            "Lois\n"
          ]
        }
      ],
      "source": [
        "names = ('Aarmink', 'Damien', 'Lilian', 'Lois')\n",
        "\n",
        "for name in names:\n",
        "  print(name)"
      ]
    },
    {
      "cell_type": "code",
      "execution_count": null,
      "metadata": {
        "colab": {
          "base_uri": "https://localhost:8080/"
        },
        "id": "24n8uOtC_WYe",
        "outputId": "dc723a5a-42ec-47f7-cb36-3ab493da6a38"
      },
      "outputs": [
        {
          "name": "stdout",
          "output_type": "stream",
          "text": [
            "1\n",
            "2\n",
            "3\n",
            "4\n",
            "5\n"
          ]
        }
      ],
      "source": [
        "# Example\n",
        "\n",
        "# Write a programe to loop the below tuples\n",
        "\n",
        "my_tuple = [1, 2, 3, 4, 5]\n",
        "\n",
        "for tuple in my_tuple:\n",
        "  print(tuple)\n"
      ]
    },
    {
      "cell_type": "code",
      "execution_count": null,
      "metadata": {
        "colab": {
          "base_uri": "https://localhost:8080/"
        },
        "id": "4bIpUemJCja-",
        "outputId": "c13cd1e3-84c4-4dc2-8bbd-fe4bae72ced8"
      },
      "outputs": [
        {
          "name": "stdout",
          "output_type": "stream",
          "text": [
            "1\n",
            "2\n",
            "3\n",
            "4\n",
            "5\n"
          ]
        }
      ],
      "source": [
        "# Example\n",
        "\n",
        "# Write a programe to loop the below list\n",
        "\n",
        "my_list = [1, 2, 3, 4, 5]\n",
        "\n",
        "for list in my_list:\n",
        "  print(list)"
      ]
    },
    {
      "cell_type": "code",
      "execution_count": null,
      "metadata": {
        "colab": {
          "base_uri": "https://localhost:8080/"
        },
        "id": "6HyT_zyBDw9-",
        "outputId": "94aed421-a808-4870-88ca-291e9b7f8420"
      },
      "outputs": [
        {
          "name": "stdout",
          "output_type": "stream",
          "text": [
            "milo\n",
            "Milk\n",
            "Soap\n",
            "Omo\n",
            "Sugar\n"
          ]
        }
      ],
      "source": [
        "# Example\n",
        "\n",
        "# Write a programe to loop the below dictionary\n",
        "\n",
        "my_dict = {\n",
        "    \"milo\": 150000,\n",
        "    \"Milk\" : 10000,\n",
        "    \"Soap\" : 9000,\n",
        "    \"Omo\": 30000,\n",
        "    \"Sugar\": 40000\n",
        "}\n",
        "\n",
        "for key in my_dict:\n",
        "  print(key)"
      ]
    },
    {
      "cell_type": "code",
      "execution_count": null,
      "metadata": {
        "id": "2NrXXYGjEpDR"
      },
      "outputs": [],
      "source": [
        "# Example\n",
        "\n",
        "# Write a programe to loop the below dictionary\n",
        "\n",
        "my_dict = {\n",
        "    \"milo\": 150000,\n",
        "    \"Milk\" : 10000,\n",
        "    \"Soap\" : 9000,\n",
        "    \"Omo\": 30000,\n",
        "    \"Sugar\": 40000\n",
        "}\n",
        "\n",
        "for key in my_dict:\n",
        "  print(key, my_dict[key])"
      ]
    },
    {
      "cell_type": "code",
      "execution_count": null,
      "metadata": {
        "id": "QR3OkvVvE3aJ"
      },
      "outputs": [],
      "source": [
        "# Example\n",
        "\n",
        "# Write a programe to loop the below dictionary\n",
        "\n",
        "my_dict = {\n",
        "    \"milo\": 150000,\n",
        "    \"Milk\" : 10000,\n",
        "    \"Soap\" : 9000,\n",
        "    \"Omo\": 30000,\n",
        "    \"Sugar\": 40000\n",
        "}\n",
        "\n",
        "for key, value in my_dict.items():\n",
        "  print(key, value)"
      ]
    },
    {
      "cell_type": "code",
      "execution_count": null,
      "metadata": {
        "colab": {
          "base_uri": "https://localhost:8080/"
        },
        "id": "LiF5pEnRFShd",
        "outputId": "520e4cfa-b6e2-4108-c956-a2e5d35a3cdf"
      },
      "outputs": [
        {
          "name": "stdout",
          "output_type": "stream",
          "text": [
            "Daniel 150000\n",
            "Lilian 10000\n",
            "Damien 9000\n",
            "Aarnik 30000\n",
            "Marshal 40000\n"
          ]
        }
      ],
      "source": [
        "# Example\n",
        "\n",
        "# itereate over the below dictionary elements\n",
        "school_fees = {\n",
        "    \"Daniel\": 150000,\n",
        "    \"Lilian\" : 10000,\n",
        "    \"Damien\" : 9000,\n",
        "    \"Aarnik\": 30000,\n",
        "    \"Marshal\": 40000\n",
        "}\n",
        "\n",
        "for key, value in school_fees.items():\n",
        "  print(key, value)"
      ]
    },
    {
      "cell_type": "markdown",
      "metadata": {
        "id": "xcGRFzGSHSEB"
      },
      "source": [
        "**for Loop with Python range()**"
      ]
    },
    {
      "cell_type": "code",
      "execution_count": null,
      "metadata": {
        "colab": {
          "base_uri": "https://localhost:8080/"
        },
        "id": "y8iaOOPQHY_v",
        "outputId": "e244b6fe-11ed-4b0e-8fdf-99d362984825"
      },
      "outputs": [
        {
          "name": "stdout",
          "output_type": "stream",
          "text": [
            "0\n",
            "1\n",
            "2\n",
            "3\n",
            "4\n"
          ]
        }
      ],
      "source": [
        "#  In Python, the range() function returns a sequence of numbers. For example,\n",
        "\n",
        "values = range(5)\n",
        "\n",
        "# Using a for loop to iterate\n",
        "# iterate from i = 0 to i = 3\n",
        "for i in values:\n",
        "  print(i)"
      ]
    },
    {
      "cell_type": "code",
      "execution_count": null,
      "metadata": {
        "colab": {
          "base_uri": "https://localhost:8080/"
        },
        "id": "8zIGBFvGIaHr",
        "outputId": "19445f7b-e92f-4b8b-9efd-118cfd1ee38b"
      },
      "outputs": [
        {
          "name": "stdout",
          "output_type": "stream",
          "text": [
            "1\n",
            "3\n",
            "5\n",
            "7\n",
            "9\n",
            "11\n",
            "13\n",
            "15\n",
            "17\n",
            "19\n"
          ]
        }
      ],
      "source": [
        "# Range of numbers from 1 to 20 with steps of 2\n",
        "for x in range(1, 20, 2):\n",
        "  print(x)"
      ]
    },
    {
      "cell_type": "code",
      "execution_count": null,
      "metadata": {
        "colab": {
          "base_uri": "https://localhost:8080/"
        },
        "id": "-_mKLPIJJL92",
        "outputId": "86d39709-5d11-4b05-e7a8-ee45b6b532a3"
      },
      "outputs": [
        {
          "name": "stdout",
          "output_type": "stream",
          "text": [
            "0\n",
            "1\n",
            "2\n",
            "3\n",
            "4\n",
            "5\n",
            "6\n",
            "7\n",
            "8\n",
            "9\n",
            "10\n",
            "11\n",
            "12\n",
            "13\n",
            "14\n",
            "15\n",
            "16\n",
            "17\n",
            "18\n",
            "19\n",
            "20\n",
            "21\n",
            "22\n",
            "23\n",
            "24\n",
            "25\n",
            "26\n",
            "27\n",
            "28\n",
            "29\n"
          ]
        }
      ],
      "source": [
        "# Write a programe to loop a number for 0 to 30 using the range() function\n",
        "for n in range(30):\n",
        "  print(n)"
      ]
    },
    {
      "cell_type": "code",
      "execution_count": null,
      "metadata": {
        "colab": {
          "base_uri": "https://localhost:8080/"
        },
        "id": "5IylXdIwLGuj",
        "outputId": "a5b0df05-61a9-470e-82af-e9712b0583c1"
      },
      "outputs": [
        {
          "name": "stdout",
          "output_type": "stream",
          "text": [
            "15\n",
            "25\n",
            "35\n",
            "45\n",
            "55\n"
          ]
        }
      ],
      "source": [
        "my_tuple = (10, 20, 30, 40, 50)\n",
        "for item in my_tuple:\n",
        "    print(item + 5)\n"
      ]
    },
    {
      "cell_type": "code",
      "execution_count": null,
      "metadata": {
        "colab": {
          "base_uri": "https://localhost:8080/"
        },
        "id": "SMUrqT7XLYqI",
        "outputId": "136d3b43-965c-45ef-d9cb-efe08a34e506"
      },
      "outputs": [
        {
          "name": "stdout",
          "output_type": "stream",
          "text": [
            "50\n",
            "100\n",
            "150\n",
            "200\n",
            "250\n"
          ]
        }
      ],
      "source": [
        "my_tuple = (10, 20, 30, 40, 50)\n",
        "for item in my_tuple:\n",
        "    print(item * 5)\n"
      ]
    },
    {
      "cell_type": "code",
      "execution_count": null,
      "metadata": {
        "colab": {
          "base_uri": "https://localhost:8080/"
        },
        "id": "sFaHvm4uMMvt",
        "outputId": "74b71a27-dce8-4280-8457-60ebd137a3f7"
      },
      "outputs": [
        {
          "name": "stdout",
          "output_type": "stream",
          "text": [
            "Number  Square  Cube\n",
            "    1       1      1\n",
            "    2       4      8\n",
            "    3       9     27\n",
            "    4      16     64\n",
            "    5      25    125\n",
            "    6      36    216\n",
            "    7      49    343\n",
            "    8      64    512\n",
            "    9      81    729\n",
            "   10     100   1000\n"
          ]
        }
      ],
      "source": [
        "# Print table header\n",
        "print(\"Number  Square  Cube\")\n",
        "\n",
        "# Generate and print table\n",
        "for i in range(1, 11):\n",
        "    square = i ** 2\n",
        "    cube = i ** 3\n",
        "    print(f\"{i:5} {square:7} {cube:6}\")\n"
      ]
    },
    {
      "cell_type": "markdown",
      "metadata": {
        "id": "fpwez0HYDFcy"
      },
      "source": [
        "**While Loops in Python**"
      ]
    },
    {
      "cell_type": "code",
      "execution_count": null,
      "metadata": {
        "colab": {
          "base_uri": "https://localhost:8080/"
        },
        "id": "qnLQPpDfDJ0Q",
        "outputId": "d10e1373-f80a-49fc-a669-7464471247c9"
      },
      "outputs": [
        {
          "name": "stdout",
          "output_type": "stream",
          "text": [
            "1\n",
            "2\n",
            "3\n"
          ]
        }
      ],
      "source": [
        "# In Python we use the while loop to repeat a block of code until a certain condition is met or satisfied\n",
        "\n",
        "# Example\n",
        "number = 1\n",
        "\n",
        "while number <= 3:\n",
        "  print(number)\n",
        "  number = number + 1"
      ]
    },
    {
      "cell_type": "code",
      "execution_count": null,
      "metadata": {
        "colab": {
          "base_uri": "https://localhost:8080/"
        },
        "id": "mxrRVf2-EQur",
        "outputId": "8649dda4-433e-4497-84f0-3b26c102b1bc"
      },
      "outputs": [
        {
          "name": "stdout",
          "output_type": "stream",
          "text": [
            "Enter a number\" 1\n",
            "The sum is 0\n"
          ]
        }
      ],
      "source": [
        "# Calculate the sum of numbers until user enters 0\n",
        "\n",
        "number = int(input('Enter a number\" '))\n",
        "\n",
        "total = 0\n",
        "\n",
        "# iterate until the user enters 0\n",
        "while number != 1:\n",
        "  total += number\n",
        "  number = int(input('Enter a number: '))\n",
        "print('The sum is', total)"
      ]
    },
    {
      "cell_type": "code",
      "execution_count": null,
      "metadata": {
        "colab": {
          "base_uri": "https://localhost:8080/"
        },
        "id": "0ozV2eEJGTSS",
        "outputId": "97b34813-444e-4277-d977-091fba3c692b"
      },
      "outputs": [
        {
          "name": "stdout",
          "output_type": "stream",
          "text": [
            "0\n",
            "1\n",
            "2\n",
            "3\n",
            "4\n"
          ]
        }
      ],
      "source": [
        "# Repeat with while\n",
        "\n",
        "x = 0\n",
        "while x < 5:\n",
        "  print(x)\n",
        "  x += 1"
      ]
    },
    {
      "cell_type": "code",
      "execution_count": null,
      "metadata": {
        "colab": {
          "base_uri": "https://localhost:8080/"
        },
        "id": "A3L5lQjxHBEw",
        "outputId": "c26a1f78-990c-4258-c98e-162c6ac6426f"
      },
      "outputs": [
        {
          "name": "stdout",
          "output_type": "stream",
          "text": [
            "Enter a number or enter 0 to exit45\n",
            "Enter a number or enter 0 to exit78\n",
            "Enter a number or enter 0 to exit89\n",
            "Enter a number or enter 0 to exit100\n",
            "Enter a number or enter 0 to exit0\n",
            "You entered:  0\n"
          ]
        }
      ],
      "source": [
        "# Cancel with 'break'\n",
        "\n",
        "while True:\n",
        "  num = int(input('Enter a number or enter 0 to exit'))\n",
        "  if num == 0:\n",
        "    break\n",
        "print('You entered: ', num)"
      ]
    },
    {
      "cell_type": "code",
      "execution_count": null,
      "metadata": {
        "colab": {
          "base_uri": "https://localhost:8080/"
        },
        "id": "htpxUxHBIHQ0",
        "outputId": "f9dae3a2-782a-4b81-f842-557485cd3eae"
      },
      "outputs": [
        {
          "name": "stdout",
          "output_type": "stream",
          "text": [
            "2\n",
            "4\n",
            "5\n",
            "6\n",
            "7\n",
            "8\n",
            "9\n",
            "10\n"
          ]
        }
      ],
      "source": [
        "#  Skip with 'continue'\n",
        "\n",
        "i = 1\n",
        "while i < 10:\n",
        "  i += 1\n",
        "  if i == 3:\n",
        "    continue\n",
        "  print(i)"
      ]
    },
    {
      "cell_type": "code",
      "execution_count": null,
      "metadata": {
        "colab": {
          "background_save": true,
          "base_uri": "https://localhost:8080/"
        },
        "id": "Lkcap84pKRDf",
        "outputId": "70162274-2ccf-4b91-b888-0be3175eb5d5"
      },
      "outputs": [
        {
          "name": "stdout",
          "output_type": "stream",
          "text": [
            "Go and sleep\n"
          ]
        },
        {
          "ename": "KeyboardInterrupt",
          "evalue": "Interrupted by user",
          "output_type": "error",
          "traceback": [
            "\u001b[0;31m---------------------------------------------------------------------------\u001b[0m",
            "\u001b[0;31mKeyboardInterrupt\u001b[0m                         Traceback (most recent call last)",
            "\u001b[0;32m<ipython-input-26-94b45c3ab1f9>\u001b[0m in \u001b[0;36m<cell line: 1>\u001b[0;34m()\u001b[0m\n\u001b[1;32m      1\u001b[0m \u001b[0;32mwhile\u001b[0m \u001b[0;32mTrue\u001b[0m\u001b[0;34m:\u001b[0m\u001b[0;34m\u001b[0m\u001b[0;34m\u001b[0m\u001b[0m\n\u001b[0;32m----> 2\u001b[0;31m   \u001b[0mname\u001b[0m \u001b[0;34m=\u001b[0m \u001b[0minput\u001b[0m\u001b[0;34m(\u001b[0m\u001b[0;34m'Enter your name  '\u001b[0m\u001b[0;34m)\u001b[0m\u001b[0;34m\u001b[0m\u001b[0;34m\u001b[0m\u001b[0m\n\u001b[0m\u001b[1;32m      3\u001b[0m   \u001b[0mage\u001b[0m \u001b[0;34m=\u001b[0m \u001b[0mint\u001b[0m\u001b[0;34m(\u001b[0m\u001b[0minput\u001b[0m\u001b[0;34m(\u001b[0m\u001b[0;34m'Enter your age to confirm voting'\u001b[0m\u001b[0;34m)\u001b[0m\u001b[0;34m)\u001b[0m\u001b[0;34m\u001b[0m\u001b[0;34m\u001b[0m\u001b[0m\n\u001b[1;32m      4\u001b[0m   \u001b[0;32mif\u001b[0m \u001b[0mage\u001b[0m \u001b[0;34m>=\u001b[0m \u001b[0;36m18\u001b[0m\u001b[0;34m:\u001b[0m\u001b[0;34m\u001b[0m\u001b[0;34m\u001b[0m\u001b[0m\n\u001b[1;32m      5\u001b[0m     \u001b[0mprint\u001b[0m\u001b[0;34m(\u001b[0m\u001b[0;34m'Hi! '\u001b[0m\u001b[0;34m,\u001b[0m \u001b[0mname\u001b[0m\u001b[0;34m)\u001b[0m\u001b[0;34m\u001b[0m\u001b[0;34m\u001b[0m\u001b[0m\n",
            "\u001b[0;32m/usr/local/lib/python3.10/dist-packages/ipykernel/kernelbase.py\u001b[0m in \u001b[0;36mraw_input\u001b[0;34m(self, prompt)\u001b[0m\n\u001b[1;32m    849\u001b[0m                 \u001b[0;34m\"raw_input was called, but this frontend does not support input requests.\"\u001b[0m\u001b[0;34m\u001b[0m\u001b[0;34m\u001b[0m\u001b[0m\n\u001b[1;32m    850\u001b[0m             )\n\u001b[0;32m--> 851\u001b[0;31m         return self._input_request(str(prompt),\n\u001b[0m\u001b[1;32m    852\u001b[0m             \u001b[0mself\u001b[0m\u001b[0;34m.\u001b[0m\u001b[0m_parent_ident\u001b[0m\u001b[0;34m,\u001b[0m\u001b[0;34m\u001b[0m\u001b[0;34m\u001b[0m\u001b[0m\n\u001b[1;32m    853\u001b[0m             \u001b[0mself\u001b[0m\u001b[0;34m.\u001b[0m\u001b[0m_parent_header\u001b[0m\u001b[0;34m,\u001b[0m\u001b[0;34m\u001b[0m\u001b[0;34m\u001b[0m\u001b[0m\n",
            "\u001b[0;32m/usr/local/lib/python3.10/dist-packages/ipykernel/kernelbase.py\u001b[0m in \u001b[0;36m_input_request\u001b[0;34m(self, prompt, ident, parent, password)\u001b[0m\n\u001b[1;32m    893\u001b[0m             \u001b[0;32mexcept\u001b[0m \u001b[0mKeyboardInterrupt\u001b[0m\u001b[0;34m:\u001b[0m\u001b[0;34m\u001b[0m\u001b[0;34m\u001b[0m\u001b[0m\n\u001b[1;32m    894\u001b[0m                 \u001b[0;31m# re-raise KeyboardInterrupt, to truncate traceback\u001b[0m\u001b[0;34m\u001b[0m\u001b[0;34m\u001b[0m\u001b[0m\n\u001b[0;32m--> 895\u001b[0;31m                 \u001b[0;32mraise\u001b[0m \u001b[0mKeyboardInterrupt\u001b[0m\u001b[0;34m(\u001b[0m\u001b[0;34m\"Interrupted by user\"\u001b[0m\u001b[0;34m)\u001b[0m \u001b[0;32mfrom\u001b[0m \u001b[0;32mNone\u001b[0m\u001b[0;34m\u001b[0m\u001b[0;34m\u001b[0m\u001b[0m\n\u001b[0m\u001b[1;32m    896\u001b[0m             \u001b[0;32mexcept\u001b[0m \u001b[0mException\u001b[0m \u001b[0;32mas\u001b[0m \u001b[0me\u001b[0m\u001b[0;34m:\u001b[0m\u001b[0;34m\u001b[0m\u001b[0;34m\u001b[0m\u001b[0m\n\u001b[1;32m    897\u001b[0m                 \u001b[0mself\u001b[0m\u001b[0;34m.\u001b[0m\u001b[0mlog\u001b[0m\u001b[0;34m.\u001b[0m\u001b[0mwarning\u001b[0m\u001b[0;34m(\u001b[0m\u001b[0;34m\"Invalid Message:\"\u001b[0m\u001b[0;34m,\u001b[0m \u001b[0mexc_info\u001b[0m\u001b[0;34m=\u001b[0m\u001b[0;32mTrue\u001b[0m\u001b[0;34m)\u001b[0m\u001b[0;34m\u001b[0m\u001b[0;34m\u001b[0m\u001b[0m\n",
            "\u001b[0;31mKeyboardInterrupt\u001b[0m: Interrupted by user"
          ]
        }
      ],
      "source": [
        "while True:\n",
        "  name = input('Enter your name  ')\n",
        "  age = int(input('Enter your age to confirm voting'))\n",
        "  if age >= 18:\n",
        "    print('Hi! ', name)\n",
        "    print('You are qualified to vote', age)\n",
        "  elif age <= 10:\n",
        "    print('Hi! ', name)\n",
        "    print('Go and sleep')\n",
        "  else:\n",
        "    print('Hi! ', name)\n",
        "    print('You are not qualified to vote', age)"
      ]
    },
    {
      "cell_type": "code",
      "execution_count": null,
      "metadata": {
        "id": "LK3mSSmlSL3l"
      },
      "outputs": [],
      "source": [
        "# Assignment\n",
        "\n",
        "# Write a code the check the ages of learners who are qualified to embark on an excursion\n",
        "# A learner below the age of 10yrs is not qualified to go\n"
      ]
    },
    {
      "cell_type": "code",
      "execution_count": null,
      "metadata": {
        "id": "_tCHSr4uJJie"
      },
      "outputs": [],
      "source": [
        "# Checking ages to comfirm eligibility to vote\n",
        "\n",
        "# age = 40\n",
        "\n",
        "# while age > 18:\n",
        "#   print('You are qualified to vote')"
      ]
    },
    {
      "cell_type": "code",
      "execution_count": null,
      "metadata": {
        "colab": {
          "base_uri": "https://localhost:8080/"
        },
        "id": "cXbIBuQKNW07",
        "outputId": "f607674f-89f7-4044-a95b-cdd2ca7aeffa"
      },
      "outputs": [
        {
          "name": "stdout",
          "output_type": "stream",
          "text": [
            "10\n",
            "8\n",
            "6\n",
            "4\n",
            "2\n"
          ]
        }
      ],
      "source": [
        "# Assignment\n",
        "\n",
        "# Print the output for the below\n",
        "\n",
        "num = 10\n",
        "while num > 0:\n",
        "  print(num)\n",
        "  num -= 2"
      ]
    },
    {
      "cell_type": "markdown",
      "metadata": {
        "id": "AJhRUCNgAac4"
      },
      "source": [
        "**Useful Operators in Python**"
      ]
    },
    {
      "cell_type": "code",
      "execution_count": null,
      "metadata": {
        "colab": {
          "base_uri": "https://localhost:8080/"
        },
        "id": "r7dqvD69AqhL",
        "outputId": "14f6605e-8883-4294-b8ba-e62ccd770e2a"
      },
      "outputs": [
        {
          "name": "stdout",
          "output_type": "stream",
          "text": [
            "13\n",
            "7\n",
            "30\n"
          ]
        }
      ],
      "source": [
        "# Arithmetic Operators\n",
        "a = 10\n",
        "b = 3\n",
        "\n",
        "print(a + b)\n",
        "print(a - b)\n",
        "print(a * b)"
      ]
    },
    {
      "cell_type": "markdown",
      "metadata": {
        "id": "J1AGRe-3BSAr"
      },
      "source": [
        "**List Comprehension in Python**\n",
        "\n",
        "List Comprehension offers a shorter syntax when you want to create a new list based on the existing list"
      ]
    },
    {
      "cell_type": "code",
      "execution_count": null,
      "metadata": {
        "colab": {
          "base_uri": "https://localhost:8080/"
        },
        "id": "gmZQeUkGBua3",
        "outputId": "aa7226fa-5efa-4a24-db94-fa6e9a6529a0"
      },
      "outputs": [
        {
          "name": "stdout",
          "output_type": "stream",
          "text": [
            "['apple', 'banana', 'mango']\n",
            "['APPLE', 'BANANA', 'MANGO']\n"
          ]
        }
      ],
      "source": [
        "# Example:\n",
        "# Based on a list of friuts, we will create a new list containing only the fruits with the letter \"a\" in the name\n",
        "\n",
        "# fruits = [\"apple\", \"banana\", \"cherry\", \"kiwi\", \"mango\"]\n",
        "# newlist = []\n",
        "\n",
        "# for fruit in fruits:\n",
        "#   if \"a\" in fruit:\n",
        "#     newlist.append(fruit)\n",
        "\n",
        "# print(newlist)\n",
        "\n",
        "fruits = [\"apple\", \"banana\", \"cherry\", \"kiwi\", \"mango\"]\n",
        "newlist = [l for l in fruits if \"a\" in l]\n",
        "\n",
        "# Seeting the values in UPPER CASE\n",
        "newlist1 = [x.upper() for x in fruits if \"a\" in x]\n",
        "\n",
        "print(newlist)\n",
        "print(newlist1)\n",
        "\n",
        "# Check and print out the fruit with \"n\" in the name"
      ]
    },
    {
      "cell_type": "code",
      "execution_count": null,
      "metadata": {
        "colab": {
          "base_uri": "https://localhost:8080/"
        },
        "id": "LCHELxUME7eo",
        "outputId": "7e8b13c0-e493-40fb-f8d2-51684542d233"
      },
      "outputs": [
        {
          "name": "stdout",
          "output_type": "stream",
          "text": [
            "[0, 1, 4, 9, 16, 25, 36, 49, 64, 81]\n"
          ]
        }
      ],
      "source": [
        "# Example 2:\n",
        "# Creating a list of squares using list comprehension\n",
        "squares = [x ** 2 for x in range(10)]\n",
        "print(squares)"
      ]
    },
    {
      "cell_type": "code",
      "execution_count": null,
      "metadata": {
        "colab": {
          "base_uri": "https://localhost:8080/"
        },
        "id": "0Dpu1k4OFo-j",
        "outputId": "cc44d292-3619-47e3-89bb-f2b453e6bab3"
      },
      "outputs": [
        {
          "name": "stdout",
          "output_type": "stream",
          "text": [
            "[0, 2, 4, 6, 8]\n"
          ]
        }
      ],
      "source": [
        "# Example 3:\n",
        "# Create a list of even numbers using list comprehansion\n",
        "even_numbers = [d for d in range(10) if d % 2 == 0 ]\n",
        "\n",
        "print(even_numbers)"
      ]
    },
    {
      "cell_type": "code",
      "execution_count": null,
      "metadata": {
        "colab": {
          "base_uri": "https://localhost:8080/"
        },
        "id": "nVNZjfDEJoRS",
        "outputId": "e5e3b2b4-95d7-4234-cee8-5ff45b4db9ec"
      },
      "outputs": [
        {
          "name": "stdout",
          "output_type": "stream",
          "text": [
            "[1, 4, 9, 16, 25, 36, 49, 64, 81, 100]\n"
          ]
        }
      ],
      "source": [
        "# Example 4:\n",
        "# Inserting a square from 1 to 10 to list and print the list\n",
        "\n",
        "# Getting square of numbers from 1 to 10\n",
        "squares = [a**2 for a in range(1, 11)]\n",
        "\n",
        "# Displaying square on even numbers\n",
        "print(squares)"
      ]
    },
    {
      "cell_type": "code",
      "execution_count": null,
      "metadata": {
        "colab": {
          "base_uri": "https://localhost:8080/"
        },
        "id": "o0WcEb3_K3Gj",
        "outputId": "1bc188ef-e4af-4f54-d845-0b15a0d6bbce"
      },
      "outputs": [
        {
          "name": "stdout",
          "output_type": "stream",
          "text": [
            "[5, 6, 6, 4, 5]\n",
            "5\n"
          ]
        }
      ],
      "source": [
        "# Assignment\n",
        "\n",
        "# Find the length of the  below using list comprehension\n",
        "\n",
        "words = [\"apple\", \"banana\", \"cherry\", \"kiwi\", \"mango\"]\n",
        "length = [a for a in words]\n",
        "word_length = [len(word) for word in words]\n",
        "print(word_length)\n",
        "\n",
        "print(len(length))"
      ]
    },
    {
      "cell_type": "code",
      "execution_count": null,
      "metadata": {
        "id": "_a8D4iYj4mFk"
      },
      "outputs": [],
      "source": [
        "sentence = (\n",
        " \"The rocket, who was named Ted, came back \"\n",
        " \"from Mars because he missed his friends.\"\n",
        ")\n",
        "def is_consonant(letter):\n",
        "  vowels = \"aeiou\"\n",
        "  return letter.isalpha() and letter.lower() not in vowels\n",
        "\n",
        "\n",
        "[char for char in sentence if is_consonant(char)]\n",
        "['T', 'h', 'r', 'c', 'k', 't', 'w', 'h', 'w', 's', 'n', 'm', 'd',\n",
        " 'T', 'd', 'c', 'm', 'b', 'c', 'k', 'f', 'r', 'm', 'M', 'r', 's', 'b',\n",
        " 'c', 's', 'h', 'm', 's', 's', 'd', 'h', 's', 'f', 'r', 'n', 'd', 's']"
      ]
    },
    {
      "cell_type": "markdown",
      "metadata": {
        "id": "SxM1inA9EUG-"
      },
      "source": [
        "# **Methods and Functions**"
      ]
    },
    {
      "cell_type": "markdown",
      "metadata": {
        "id": "YJwk-uH0F312"
      },
      "source": [
        "A function is a block of code which **only runs when it is called**\n",
        "\n",
        "We pass data, known as parameters into a function\n",
        "\n",
        "A function can return data as a result"
      ]
    },
    {
      "cell_type": "code",
      "execution_count": null,
      "metadata": {
        "colab": {
          "base_uri": "https://localhost:8080/"
        },
        "id": "qydXJKPPEip4",
        "outputId": "8d9eddfd-21cc-47d8-df92-dfe3d39e640e"
      },
      "outputs": [
        {
          "name": "stdout",
          "output_type": "stream",
          "text": [
            "[1, 2, 3, 4, 5, 6]\n",
            "[1, 2, 4, 5, 6]\n",
            "[232.11, 238.91, 247.81]\n",
            "10\n",
            "8\n"
          ]
        }
      ],
      "source": [
        "# Using methods with list\n",
        "myList = [1, 2, 3, 4, 5]\n",
        "\n",
        "# Append method will add an element to the list\n",
        "myList.append(6)\n",
        "print(myList)\n",
        "\n",
        "# Remove an element from the list using the remove method\n",
        "myList.remove(3)\n",
        "print(myList)\n",
        "\n",
        "# Python sort list method\n",
        "# Example:\n",
        "# Sorting out element in prices in ascending order\n",
        "prices = [232.11, 247.81, 238.91]\n",
        "prices.sort()\n",
        "print(prices)\n",
        "\n",
        "# Example\n",
        "# Using type()\n",
        "\n",
        "student = {'Daniel', 1.73, 'Lois', 1.89}\n",
        "type(student)\n",
        "\n",
        "#  Using the extend()\n",
        "l = [1, 2, 3, 4]\n",
        "l.extend([5,6])\n",
        "l\n",
        "\n",
        "# Using the index()\n",
        "months  = ['January', 'February', 'March']\n",
        "months.index('March')\n",
        "\n",
        "# Using the max()\n",
        "age = [10, 8, 9]\n",
        "print(max(age))\n",
        "print(min(age))"
      ]
    },
    {
      "cell_type": "code",
      "execution_count": null,
      "metadata": {
        "colab": {
          "base_uri": "https://localhost:8080/"
        },
        "id": "z4kSW54rLv-X",
        "outputId": "fe6d7040-da7c-4274-bd3e-8b473ead881e"
      },
      "outputs": [
        {
          "name": "stdout",
          "output_type": "stream",
          "text": [
            "Hello from a function\n"
          ]
        }
      ],
      "source": [
        "# In python a function is defined using the def keyword\n",
        "\n",
        "# Example:\n",
        "def my_function():\n",
        "  print(\"Hello from a function\")\n",
        "my_function()"
      ]
    },
    {
      "cell_type": "code",
      "execution_count": null,
      "metadata": {
        "colab": {
          "base_uri": "https://localhost:8080/"
        },
        "id": "_QIh2M7cOJwy",
        "outputId": "f1019ba3-3397-4e61-83f6-443aaaff5e45"
      },
      "outputs": [
        {
          "name": "stdout",
          "output_type": "stream",
          "text": [
            "Neo Donkor\n",
            "Blay Donkor\n"
          ]
        }
      ],
      "source": [
        "def my_siblings(fname):\n",
        "  print(fname + \" Donkor\")\n",
        "\n",
        "my_siblings(\"Neo\")\n",
        "my_siblings(\"Blay\")"
      ]
    },
    {
      "cell_type": "code",
      "execution_count": null,
      "metadata": {
        "colab": {
          "base_uri": "https://localhost:8080/"
        },
        "id": "GcNkSMQJPQ6M",
        "outputId": "e08e26bd-1ff9-48e9-e23d-f984e15cf53c"
      },
      "outputs": [
        {
          "name": "stdout",
          "output_type": "stream",
          "text": [
            "I am from United State\n",
            "I am from Ghana\n"
          ]
        }
      ],
      "source": [
        "def myCountry(country = 'United State'):\n",
        "  print('I am from ' + country)\n",
        "myCountry()\n",
        "myCountry('Ghana')"
      ]
    },
    {
      "cell_type": "code",
      "execution_count": null,
      "metadata": {
        "colab": {
          "base_uri": "https://localhost:8080/"
        },
        "id": "vp8Jmga1RIBw",
        "outputId": "bbb5f4e8-b6c2-482b-db33-fd203c51288a"
      },
      "outputs": [
        {
          "name": "stdout",
          "output_type": "stream",
          "text": [
            "Hello, Lilian!\n",
            "Hello, Lois!\n"
          ]
        }
      ],
      "source": [
        "def greet(name):\n",
        "  print('Hello, ' + name + '!')\n",
        "\n",
        "greet('Lilian')\n",
        "greet('Lois')"
      ]
    },
    {
      "cell_type": "code",
      "execution_count": null,
      "metadata": {
        "colab": {
          "base_uri": "https://localhost:8080/"
        },
        "id": "WlO69CMhRpbY",
        "outputId": "69b10552-4cf0-4cb5-db21-d05c467b4da9"
      },
      "outputs": [
        {
          "name": "stdout",
          "output_type": "stream",
          "text": [
            "15\n"
          ]
        }
      ],
      "source": [
        "def add(a, b):\n",
        "  return a * b\n",
        "\n",
        "# Calling the function and storing the results in a variable\n",
        "result = add(3, 5)\n",
        "print(result)"
      ]
    },
    {
      "cell_type": "code",
      "execution_count": null,
      "metadata": {
        "id": "IHWKd5JuS8oe"
      },
      "outputs": [],
      "source": [
        "# Assignment\n",
        "\n",
        "# Define 5 python function"
      ]
    },
    {
      "cell_type": "markdown",
      "metadata": {
        "id": "As3HTVK_-i5r"
      },
      "source": [
        "**PROJECT TOPICS**"
      ]
    },
    {
      "cell_type": "markdown",
      "metadata": {
        "id": "T1d1W4lQDZFN"
      },
      "source": [
        "**March, 2024 Project**\n",
        "1. Daniel = Caculator Project\n",
        "2. Aarnick = Quiz Project\n",
        "3. Lois  = Shopping List Project not To Do List Project\n",
        "4. Damien =  Quiz Project\n",
        "4. Lilian = Calculator Project"
      ]
    },
    {
      "cell_type": "markdown",
      "metadata": {
        "id": "A2IPYgz9GCkb"
      },
      "source": [
        "**PROJECT SAMPLES**"
      ]
    },
    {
      "cell_type": "markdown",
      "metadata": {
        "id": "qhaG4cF9VHJT"
      },
      "source": [
        "SHOPPING CART"
      ]
    },
    {
      "cell_type": "code",
      "execution_count": null,
      "metadata": {
        "id": "LcH04JOl-p0H"
      },
      "outputs": [],
      "source": [
        "# Storing all products in a dictionary\n",
        "products = {\n",
        "    \"apple\": 5.00,\n",
        "    \"banana\": 10.00,\n",
        "    \"orange\": 2.00,\n",
        "    \"grapes\": 15.00,\n",
        "    \"watermelon\": 50.00\n",
        "}\n",
        "\n",
        "# Function to calculate the total price of products in the cart\n",
        "def calculate_total_price(cart):\n",
        "    total_price = 0\n",
        "    for item, quantity in cart.items():\n",
        "        if item in products:\n",
        "            total_price += products[item] * quantity\n",
        "        else:\n",
        "            print(f\"Warning: {item} is not available.\")\n",
        "    return total_price\n",
        "\n",
        "# Function to display the available products with prices\n",
        "def display_available_products():\n",
        "    print(\"Available products with prices:\")\n",
        "    for product, price in products.items():\n",
        "        print(f\"{product}: ${price:.2f}\")\n",
        "\n",
        "# Function to add a product to the cart\n",
        "def add_to_cart(cart):\n",
        "    product = input(\"Enter the product name to add: \").lower()\n",
        "    if product not in products:\n",
        "        print(f\"Warning: {product} is not available.\")\n",
        "        return\n",
        "    quantity = int(input(f\"Enter the quantity of {product} to add: \"))\n",
        "    if product in cart:\n",
        "        cart[product] += quantity\n",
        "    else:\n",
        "        cart[product] = quantity\n",
        "    print(f\"{quantity} {product}(s) added to the cart.\")\n",
        "\n",
        "# Function to delete a product from the cart\n",
        "def delete_from_cart(cart):\n",
        "    product = input(\"Enter the product name to delete: \").lower()\n",
        "    if product not in cart:\n",
        "        print(f\"{product} is not in the cart.\")\n",
        "        return\n",
        "    del cart[product]\n",
        "    print(f\"{product} removed from the cart.\")\n",
        "\n",
        "# Function to modify the quantity of a product in the cart\n",
        "def modify_cart_quantity(cart):\n",
        "    product = input(\"Enter the product name to modify quantity: \").lower()\n",
        "    if product not in cart:\n",
        "        print(f\"{product} is not in the cart.\")\n",
        "        return\n",
        "    quantity = int(input(f\"Enter the new quantity of {product}: \"))\n",
        "    cart[product] = quantity\n",
        "    print(f\"Quantity of {product} updated to {quantity}.\")\n",
        "\n",
        "# Display available products with prices\n",
        "display_available_products()\n",
        "\n",
        "# Ask the customer to input the products they want to buy\n",
        "cart = {}\n",
        "while True:\n",
        "    print(\"Enter 'add' to add a product, 'delete' to remove a product, 'modify' to change the quantity of a product, or 'done' to finish shopping.\")\n",
        "    option = input(\"Enter your choice: \").lower()\n",
        "    if option == \"done\":\n",
        "        break\n",
        "    elif option == \"add\":\n",
        "        add_to_cart(cart)\n",
        "    elif option == \"delete\":\n",
        "        delete_from_cart(cart)\n",
        "    elif option == \"modify\":\n",
        "        modify_cart_quantity(cart)\n",
        "    else:\n",
        "        print(\"Invalid option. Please enter 'add', 'delete', 'modify', or 'done'.\")\n",
        "\n",
        "# Calculate the total price of the products in the cart\n",
        "total_price = calculate_total_price(cart)\n",
        "print(\"Total price of the products in the cart:\", total_price)\n"
      ]
    },
    {
      "cell_type": "markdown",
      "metadata": {
        "id": "oNtDjU6_Q5L1"
      },
      "source": [
        "**Calculator Project**"
      ]
    },
    {
      "cell_type": "code",
      "execution_count": null,
      "metadata": {
        "colab": {
          "background_save": true,
          "base_uri": "https://localhost:8080/"
        },
        "id": "iMf0sEg7KRS9",
        "outputId": "97a2614b-32e5-4bc7-b1a0-6cdc48844597"
      },
      "outputs": [
        {
          "name": "stdout",
          "output_type": "stream",
          "text": [
            "Welcome to Simple Calculator!\n",
            "Available operations:\n",
            "1. Addition (+)\n",
            "2. Subtraction (-)\n",
            "3. Multiplication (*)\n",
            "4. Division (/)\n",
            "Result: -1.0\n"
          ]
        }
      ],
      "source": [
        "# Function to perform addition\n",
        "def add(x, y):\n",
        "    return x + y\n",
        "\n",
        "# Function to perform subtraction\n",
        "def subtract(x, y):\n",
        "    return x - y\n",
        "\n",
        "# Function to perform multiplication\n",
        "def multiply(x, y):\n",
        "    return x * y\n",
        "\n",
        "# Function to perform division\n",
        "def divide(x, y):\n",
        "    if y == 0:\n",
        "        return \"Error! Division by zero is not allowed.\"\n",
        "    else:\n",
        "        return x / y\n",
        "\n",
        "# Function to display the available operations\n",
        "def display_operations():\n",
        "    print(\"Available operations:\")\n",
        "    print(\"1. Addition (+)\")\n",
        "    print(\"2. Subtraction (-)\")\n",
        "    print(\"3. Multiplication (*)\")\n",
        "    print(\"4. Division (/)\")\n",
        "\n",
        "# Function to validate operation input\n",
        "def validate_operation(operation):\n",
        "    if operation not in ['1', '2', '3', '4']:\n",
        "        print(\"Invalid operation. Please enter a valid operation number.\")\n",
        "        return False\n",
        "    return True\n",
        "\n",
        "# Function to validate number input\n",
        "def validate_number(num_str):\n",
        "    if num_str.replace(\".\", \"\", 1).isdigit():  # Check if the string is a number\n",
        "        return True, float(num_str)\n",
        "    else:\n",
        "        print(\"Invalid input. Please enter a valid number.\")\n",
        "        return False, None\n",
        "\n",
        "# Function to ask the user if they want to continue\n",
        "def ask_continue():\n",
        "    choice = input(\"Do you want to perform another operation? (yes/no): \").lower()\n",
        "    return choice == 'yes'\n",
        "\n",
        "# Display an introductory message\n",
        "print(\"Welcome to Simple Calculator!\")\n",
        "\n",
        "# Display available operations\n",
        "display_operations()\n",
        "\n",
        "# Main loop\n",
        "while True:\n",
        "    # Ask the user to select an operation and validate input\n",
        "    operation = input(\"Enter the operation number (1/2/3/4): \")\n",
        "    while not validate_operation(operation):\n",
        "        operation = input(\"Enter the operation number (1/2/3/4): \")\n",
        "\n",
        "    # Ask the user to input the first number and validate input\n",
        "    num1_valid = False\n",
        "    while not num1_valid:\n",
        "        num1_str = input(\"Enter the first number: \")\n",
        "        num1_valid, num1 = validate_number(num1_str)\n",
        "\n",
        "    # Ask the user to input the second number and validate input\n",
        "    num2_valid = False\n",
        "    while not num2_valid:\n",
        "        num2_str = input(\"Enter the second number: \")\n",
        "        num2_valid, num2 = validate_number(num2_str)\n",
        "\n",
        "    # Perform the selected operation\n",
        "    if operation == '1':\n",
        "        print(\"Result:\", add(num1, num2))\n",
        "    elif operation == '2':\n",
        "        print(\"Result:\", subtract(num1, num2))\n",
        "    elif operation == '3':\n",
        "        print(\"Result:\", multiply(num1, num2))\n",
        "    elif operation == '4':\n",
        "        print(\"Result:\", divide(num1, num2))\n",
        "\n",
        "    # Ask if the user wants to continue\n",
        "    if not ask_continue():\n",
        "        break\n"
      ]
    },
    {
      "cell_type": "markdown",
      "metadata": {
        "id": "RajyNuokdcKf"
      },
      "source": [
        "**To Do List Project**"
      ]
    },
    {
      "cell_type": "code",
      "execution_count": null,
      "metadata": {
        "colab": {
          "background_save": true,
          "base_uri": "https://localhost:8080/"
        },
        "id": "FpntUap9dgZ8",
        "outputId": "1c099f48-8d77-415e-cb6c-b8c8a96b15c9"
      },
      "outputs": [
        {
          "name": "stdout",
          "output_type": "stream",
          "text": [
            "\n",
            "To-Do List Menu:\n",
            "1. Display To-Do List\n",
            "2. Add Task\n",
            "3. Remove Task\n",
            "4. Mark Task as Completed\n",
            "5. Mark Task as Uncompleted\n",
            "6. Quit\n",
            "Your To-Do List is empty.\n",
            "\n",
            "To-Do List Menu:\n",
            "1. Display To-Do List\n",
            "2. Add Task\n",
            "3. Remove Task\n",
            "4. Mark Task as Completed\n",
            "5. Mark Task as Uncompleted\n",
            "6. Quit\n",
            "Invalid choice. Please enter a valid option (1/2/3/4/5/6).\n",
            "\n",
            "To-Do List Menu:\n",
            "1. Display To-Do List\n",
            "2. Add Task\n",
            "3. Remove Task\n",
            "4. Mark Task as Completed\n",
            "5. Mark Task as Uncompleted\n",
            "6. Quit\n",
            "Your To-Do List is empty.\n",
            "\n",
            "To-Do List Menu:\n",
            "1. Display To-Do List\n",
            "2. Add Task\n",
            "3. Remove Task\n",
            "4. Mark Task as Completed\n",
            "5. Mark Task as Uncompleted\n",
            "6. Quit\n"
          ]
        }
      ],
      "source": [
        "# Function to display the To-Do List\n",
        "def display_todo_list(todo_list):\n",
        "    if not todo_list:\n",
        "        print(\"Your To-Do List is empty.\")\n",
        "    else:\n",
        "        print(\"Your To-Do List:\")\n",
        "        for index, (task, completed) in enumerate(todo_list, start=1):\n",
        "            status = \"✓\" if completed else \"○\"\n",
        "            print(f\"{index}. [{status}] {task}\")\n",
        "\n",
        "# Function to add a task to the To-Do List\n",
        "def add_task(todo_list, task):\n",
        "    todo_list.append((task, False))\n",
        "    print(f\"Task '{task}' added to the To-Do List.\")\n",
        "\n",
        "# Function to remove a task from the To-Do List\n",
        "def remove_task(todo_list, task_number):\n",
        "    if task_number < 1 or task_number > len(todo_list):\n",
        "        print(\"Invalid task number. Please enter a valid task number.\")\n",
        "    else:\n",
        "        removed_task = todo_list.pop(task_number - 1)\n",
        "        print(f\"Task '{removed_task[0]}' removed from the To-Do List.\")\n",
        "\n",
        "# Function to mark a task as completed\n",
        "def mark_completed(todo_list, task_number):\n",
        "    if task_number < 1 or task_number > len(todo_list):\n",
        "        print(\"Invalid task number. Please enter a valid task number.\")\n",
        "    else:\n",
        "        todo_list[task_number - 1] = (todo_list[task_number - 1][0], True)\n",
        "        print(f\"Task '{todo_list[task_number - 1][0]}' marked as completed.\")\n",
        "\n",
        "# Function to mark a task as uncompleted\n",
        "def mark_uncompleted(todo_list, task_number):\n",
        "    if task_number < 1 or task_number > len(todo_list):\n",
        "        print(\"Invalid task number. Please enter a valid task number.\")\n",
        "    else:\n",
        "        todo_list[task_number - 1] = (todo_list[task_number - 1][0], False)\n",
        "        print(f\"Task '{todo_list[task_number - 1][0]}' marked as uncompleted.\")\n",
        "\n",
        "# Main function\n",
        "def main():\n",
        "    todo_list = []\n",
        "\n",
        "    while True:\n",
        "        print(\"\\nTo-Do List Menu:\")\n",
        "        print(\"1. Display To-Do List\")\n",
        "        print(\"2. Add Task\")\n",
        "        print(\"3. Remove Task\")\n",
        "        print(\"4. Mark Task as Completed\")\n",
        "        print(\"5. Mark Task as Uncompleted\")\n",
        "        print(\"6. Quit\")\n",
        "\n",
        "        choice = input(\"Enter your choice (1/2/3/4/5/6): \")\n",
        "\n",
        "        if choice == '1':\n",
        "            display_todo_list(todo_list)\n",
        "        elif choice == '2':\n",
        "            task = input(\"Enter the task to add: \")\n",
        "            add_task(todo_list, task)\n",
        "        elif choice == '3':\n",
        "            display_todo_list(todo_list)\n",
        "            if todo_list:\n",
        "                task_number = int(input(\"Enter the task number to remove: \"))\n",
        "                remove_task(todo_list, task_number)\n",
        "        elif choice == '4':\n",
        "            display_todo_list(todo_list)\n",
        "            if todo_list:\n",
        "                task_number = int(input(\"Enter the task number to mark as completed: \"))\n",
        "                mark_completed(todo_list, task_number)\n",
        "        elif choice == '5':\n",
        "            display_todo_list(todo_list)\n",
        "            if todo_list:\n",
        "                task_number = int(input(\"Enter the task number to mark as uncompleted: \"))\n",
        "                mark_uncompleted(todo_list, task_number)\n",
        "        elif choice == '6':\n",
        "            print(\"Thank you for using the To-Do List. Goodbye!\")\n",
        "            break\n",
        "        else:\n",
        "            print(\"Invalid choice. Please enter a valid option (1/2/3/4/5/6).\")\n",
        "\n",
        "if __name__ == \"__main__\":\n",
        "    main()\n"
      ]
    },
    {
      "cell_type": "markdown",
      "metadata": {
        "id": "1aWqbVZJTKoC"
      },
      "source": [
        "**QUIZ PROJECT**"
      ]
    },
    {
      "cell_type": "code",
      "execution_count": null,
      "metadata": {
        "colab": {
          "base_uri": "https://localhost:8080/"
        },
        "id": "dDwJa-yLTIq5",
        "outputId": "3c3e9fb7-3e74-48cf-b06b-49ccc8354968"
      },
      "outputs": [
        {
          "name": "stdout",
          "output_type": "stream",
          "text": [
            "Welcome to the Quiz!\n",
            "What is the capital of France?\n",
            "A. London\n",
            "B. Paris\n",
            "C. Rome\n",
            "D. Berlin\n",
            "Your answer (Enter the letter corresponding to your choice): a\n",
            "Sorry, the correct answer is: B\n",
            "Who wrote 'Romeo and Juliet'?\n",
            "A. Charles Dickens\n",
            "B. William Shakespeare\n",
            "C. Jane Austen\n",
            "D. Mark Twain\n",
            "Your answer (Enter the letter corresponding to your choice): b\n",
            "Correct!\n",
            "What is the chemical symbol for water?\n",
            "A. H2O\n",
            "B. CO2\n",
            "C. NaCl\n",
            "D. O2\n",
            "Your answer (Enter the letter corresponding to your choice): a\n",
            "Correct!\n",
            "What is the largest planet in our solar system?\n",
            "A. Mercury\n",
            "B. Venus\n",
            "C. Earth\n",
            "D. Jupiter\n",
            "Your answer (Enter the letter corresponding to your choice): c\n",
            "Sorry, the correct answer is: D\n",
            "What year did the Titanic sink?\n",
            "A. 1910\n",
            "B. 1912\n",
            "C. 1920\n",
            "D. 1930\n",
            "Your answer (Enter the letter corresponding to your choice): q\n",
            "Sorry, the correct answer is: B\n",
            "\n",
            "Quiz completed! You scored 2 out of 5.\n"
          ]
        }
      ],
      "source": [
        "# Define a dictionary to store the quiz questions, each with a list of possible answers and the correct answer\n",
        "quiz_questions = {\n",
        "    \"What is the capital of France?\": {\n",
        "        \"options\": [\"A. London\", \"B. Paris\", \"C. Rome\", \"D. Berlin\"],\n",
        "        \"answer\": \"B\"\n",
        "    },\n",
        "    \"Who wrote 'Romeo and Juliet'?\": {\n",
        "        \"options\": [\"A. Charles Dickens\", \"B. William Shakespeare\", \"C. Jane Austen\", \"D. Mark Twain\"],\n",
        "        \"answer\": \"B\"\n",
        "    },\n",
        "    \"What is the chemical symbol for water?\": {\n",
        "        \"options\": [\"A. H2O\", \"B. CO2\", \"C. NaCl\", \"D. O2\"],\n",
        "        \"answer\": \"A\"\n",
        "    },\n",
        "    \"What is the largest planet in our solar system?\": {\n",
        "        \"options\": [\"A. Mercury\", \"B. Venus\", \"C. Earth\", \"D. Jupiter\"],\n",
        "        \"answer\": \"D\"\n",
        "    },\n",
        "    \"What year did the Titanic sink?\": {\n",
        "        \"options\": [\"A. 1910\", \"B. 1912\", \"C. 1920\", \"D. 1930\"],\n",
        "        \"answer\": \"B\"\n",
        "    }\n",
        "}\n",
        "\n",
        "# Function to administer the quiz\n",
        "def administer_quiz(questions):\n",
        "    score = 0\n",
        "    total_questions = len(questions)\n",
        "\n",
        "    # Iterate over each question in the quiz\n",
        "    for question, data in questions.items():\n",
        "        print(question)\n",
        "        for option in data[\"options\"]:\n",
        "            print(option)\n",
        "        user_answer = input(\"Your answer (Enter the letter corresponding to your choice): \")\n",
        "\n",
        "        # Check if the user's answer is correct\n",
        "        if user_answer.upper() == data[\"answer\"]:\n",
        "            print(\"Correct!\")\n",
        "            score += 1\n",
        "        else:\n",
        "            print(f\"Sorry, the correct answer is: {data['answer']}\")\n",
        "\n",
        "    # Display the final score\n",
        "    print(f\"\\nQuiz completed! You scored {score} out of {total_questions}.\")\n",
        "\n",
        "# Main function to start the quiz\n",
        "def main():\n",
        "    print(\"Welcome to the Quiz!\")\n",
        "\n",
        "    # Administer the quiz\n",
        "    administer_quiz(quiz_questions)\n",
        "\n",
        "# Execute the main function\n",
        "if __name__ == \"__main__\":\n",
        "    main()\n"
      ]
    },
    {
      "cell_type": "markdown",
      "metadata": {
        "id": "_MPG1iD2Su67"
      },
      "source": [
        "**RANDOM MATH QUIZ**"
      ]
    },
    {
      "cell_type": "code",
      "execution_count": null,
      "metadata": {
        "colab": {
          "base_uri": "https://localhost:8080/",
          "height": 373
        },
        "id": "MLxGwygWLQKe",
        "outputId": "4a01ed18-8dba-48ed-b072-6a5b246be2e7"
      },
      "outputs": [
        {
          "name": "stdout",
          "output_type": "stream",
          "text": [
            "Incorrect. The correct answer is: 13\n"
          ]
        },
        {
          "ename": "KeyboardInterrupt",
          "evalue": "Interrupted by user",
          "output_type": "error",
          "traceback": [
            "\u001b[0;31m---------------------------------------------------------------------------\u001b[0m",
            "\u001b[0;31mKeyboardInterrupt\u001b[0m                         Traceback (most recent call last)",
            "\u001b[0;32m<ipython-input-4-a10812d1e8dc>\u001b[0m in \u001b[0;36m<cell line: 22>\u001b[0;34m()\u001b[0m\n\u001b[1;32m     23\u001b[0m     \u001b[0mexpr\u001b[0m\u001b[0;34m,\u001b[0m \u001b[0manswer\u001b[0m \u001b[0;34m=\u001b[0m \u001b[0mgenerate_problem\u001b[0m\u001b[0;34m(\u001b[0m\u001b[0;34m)\u001b[0m\u001b[0;34m\u001b[0m\u001b[0;34m\u001b[0m\u001b[0m\n\u001b[1;32m     24\u001b[0m     \u001b[0;32mwhile\u001b[0m \u001b[0;32mTrue\u001b[0m\u001b[0;34m:\u001b[0m\u001b[0;34m\u001b[0m\u001b[0;34m\u001b[0m\u001b[0m\n\u001b[0;32m---> 25\u001b[0;31m         \u001b[0mguess\u001b[0m \u001b[0;34m=\u001b[0m \u001b[0minput\u001b[0m\u001b[0;34m(\u001b[0m\u001b[0;34m\"Problem #\"\u001b[0m \u001b[0;34m+\u001b[0m \u001b[0mstr\u001b[0m\u001b[0;34m(\u001b[0m\u001b[0mi\u001b[0m \u001b[0;34m+\u001b[0m \u001b[0;36m1\u001b[0m\u001b[0;34m)\u001b[0m \u001b[0;34m+\u001b[0m \u001b[0;34m\": \"\u001b[0m \u001b[0;34m+\u001b[0m \u001b[0mstr\u001b[0m\u001b[0;34m(\u001b[0m\u001b[0mexpr\u001b[0m\u001b[0;34m)\u001b[0m \u001b[0;34m+\u001b[0m \u001b[0;34m\" = \"\u001b[0m\u001b[0;34m)\u001b[0m\u001b[0;34m\u001b[0m\u001b[0;34m\u001b[0m\u001b[0m\n\u001b[0m\u001b[1;32m     26\u001b[0m         \u001b[0;32mif\u001b[0m \u001b[0mguess\u001b[0m \u001b[0;34m==\u001b[0m \u001b[0mstr\u001b[0m\u001b[0;34m(\u001b[0m\u001b[0manswer\u001b[0m\u001b[0;34m)\u001b[0m\u001b[0;34m:\u001b[0m\u001b[0;34m\u001b[0m\u001b[0;34m\u001b[0m\u001b[0m\n\u001b[1;32m     27\u001b[0m             \u001b[0mscore\u001b[0m \u001b[0;34m+=\u001b[0m \u001b[0;36m1\u001b[0m\u001b[0;34m\u001b[0m\u001b[0;34m\u001b[0m\u001b[0m\n",
            "\u001b[0;32m/usr/local/lib/python3.10/dist-packages/ipykernel/kernelbase.py\u001b[0m in \u001b[0;36mraw_input\u001b[0;34m(self, prompt)\u001b[0m\n\u001b[1;32m    849\u001b[0m                 \u001b[0;34m\"raw_input was called, but this frontend does not support input requests.\"\u001b[0m\u001b[0;34m\u001b[0m\u001b[0;34m\u001b[0m\u001b[0m\n\u001b[1;32m    850\u001b[0m             )\n\u001b[0;32m--> 851\u001b[0;31m         return self._input_request(str(prompt),\n\u001b[0m\u001b[1;32m    852\u001b[0m             \u001b[0mself\u001b[0m\u001b[0;34m.\u001b[0m\u001b[0m_parent_ident\u001b[0m\u001b[0;34m,\u001b[0m\u001b[0;34m\u001b[0m\u001b[0;34m\u001b[0m\u001b[0m\n\u001b[1;32m    853\u001b[0m             \u001b[0mself\u001b[0m\u001b[0;34m.\u001b[0m\u001b[0m_parent_header\u001b[0m\u001b[0;34m,\u001b[0m\u001b[0;34m\u001b[0m\u001b[0;34m\u001b[0m\u001b[0m\n",
            "\u001b[0;32m/usr/local/lib/python3.10/dist-packages/ipykernel/kernelbase.py\u001b[0m in \u001b[0;36m_input_request\u001b[0;34m(self, prompt, ident, parent, password)\u001b[0m\n\u001b[1;32m    893\u001b[0m             \u001b[0;32mexcept\u001b[0m \u001b[0mKeyboardInterrupt\u001b[0m\u001b[0;34m:\u001b[0m\u001b[0;34m\u001b[0m\u001b[0;34m\u001b[0m\u001b[0m\n\u001b[1;32m    894\u001b[0m                 \u001b[0;31m# re-raise KeyboardInterrupt, to truncate traceback\u001b[0m\u001b[0;34m\u001b[0m\u001b[0;34m\u001b[0m\u001b[0m\n\u001b[0;32m--> 895\u001b[0;31m                 \u001b[0;32mraise\u001b[0m \u001b[0mKeyboardInterrupt\u001b[0m\u001b[0;34m(\u001b[0m\u001b[0;34m\"Interrupted by user\"\u001b[0m\u001b[0;34m)\u001b[0m \u001b[0;32mfrom\u001b[0m \u001b[0;32mNone\u001b[0m\u001b[0;34m\u001b[0m\u001b[0;34m\u001b[0m\u001b[0m\n\u001b[0m\u001b[1;32m    896\u001b[0m             \u001b[0;32mexcept\u001b[0m \u001b[0mException\u001b[0m \u001b[0;32mas\u001b[0m \u001b[0me\u001b[0m\u001b[0;34m:\u001b[0m\u001b[0;34m\u001b[0m\u001b[0;34m\u001b[0m\u001b[0m\n\u001b[1;32m    897\u001b[0m                 \u001b[0mself\u001b[0m\u001b[0;34m.\u001b[0m\u001b[0mlog\u001b[0m\u001b[0;34m.\u001b[0m\u001b[0mwarning\u001b[0m\u001b[0;34m(\u001b[0m\u001b[0;34m\"Invalid Message:\"\u001b[0m\u001b[0;34m,\u001b[0m \u001b[0mexc_info\u001b[0m\u001b[0;34m=\u001b[0m\u001b[0;32mTrue\u001b[0m\u001b[0;34m)\u001b[0m\u001b[0;34m\u001b[0m\u001b[0;34m\u001b[0m\u001b[0m\n",
            "\u001b[0;31mKeyboardInterrupt\u001b[0m: Interrupted by user"
          ]
        }
      ],
      "source": [
        "import random\n",
        "\n",
        "OPERATORS = [\"+\", \"-\", \"/\"]\n",
        "MIN_OPERAND = 3\n",
        "MAX_OPERAND = 12\n",
        "TOTAL_PROBLEMS = 10\n",
        "\n",
        "def generate_problem():\n",
        "    left = random.randint(MIN_OPERAND, MAX_OPERAND)\n",
        "    right = random.randint(MIN_OPERAND, MAX_OPERAND)\n",
        "    operator = random.choice(OPERATORS)\n",
        "\n",
        "    expr = str(left) + \" \" + operator + \" \" + str(right)\n",
        "    answer = eval(expr)\n",
        "    return expr, answer\n",
        "\n",
        "score = 0\n",
        "\n",
        "# Prompt the user to input their name\n",
        "name = input(\"Welcome! \\nPlease enter your name: \")\n",
        "\n",
        "for i in range(TOTAL_PROBLEMS):\n",
        "    expr, answer = generate_problem()\n",
        "    while True:\n",
        "        guess = input(\"Problem #\" + str(i + 1) + \": \" + str(expr) + \" = \")\n",
        "        if guess == str(answer):\n",
        "            score += 1\n",
        "            print(\"Correct!\")\n",
        "            break\n",
        "        else:\n",
        "            print(\"Incorrect. The correct answer is:\", answer)\n",
        "            break\n",
        "\n",
        "print(\"Hi {}, you got {} out of {} correct!\".format(name, score, TOTAL_PROBLEMS))\n"
      ]
    }
  ],
  "metadata": {
    "colab": {
      "collapsed_sections": [
        "jE8dK8eOonQs",
        "iI2Ctj3c6vm9",
        "JTTUgwv45MZH",
        "bVxDjFRh8gPF",
        "fkBftYrG5Pz8"
      ],
      "provenance": [],
      "authorship_tag": "ABX9TyPiQ1+tSMNur+Q8OJLgOdgY",
      "include_colab_link": true
    },
    "kernelspec": {
      "display_name": "Python 3",
      "name": "python3"
    },
    "language_info": {
      "name": "python"
    }
  },
  "nbformat": 4,
  "nbformat_minor": 0
}